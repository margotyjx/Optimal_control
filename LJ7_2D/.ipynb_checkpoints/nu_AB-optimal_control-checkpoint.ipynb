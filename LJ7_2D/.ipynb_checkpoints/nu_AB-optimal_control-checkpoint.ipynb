{
 "cells": [
  {
   "cell_type": "code",
   "execution_count": 1,
   "id": "686c8286",
   "metadata": {},
   "outputs": [],
   "source": [
    "import numpy as np\n",
    "import torch\n",
    "import torch.nn as nn\n",
    "from pathlib import Path\n",
    "import matplotlib.pyplot as plt\n",
    "from torch.utils.data import TensorDataset\n",
    "from torch.utils.data import DataLoader\n",
    "import torch.optim as optim\n",
    "import scipy.interpolate\n",
    "import math\n",
    "from LJ7.FEM_TPT import *\n",
    "import scipy.stats\n",
    "import utils_LJ7, control_traj_LJ7, rates\n",
    "from utils_LJ7 import LJ7_2\n",
    "pitorch = torch.Tensor([math.pi])"
   ]
  },
  {
   "cell_type": "markdown",
   "id": "59059a47",
   "metadata": {},
   "source": [
    "# Estimation of transition rate through NNs"
   ]
  },
  {
   "cell_type": "code",
   "execution_count": 2,
   "id": "8c922b93",
   "metadata": {},
   "outputs": [],
   "source": [
    "model = torch.load('./data/LJ7_2hidden_LJ7.pt')\n",
    "model.eval()\n",
    "# Import initial points\n",
    "Data = np.load(\"./data/Mala Boundary Samples re-1.npz\")\n",
    "Abdry = Data['ABord']\n",
    "Abdry_reshaped = np.transpose(Abdry.reshape((7,2,200)),(1,0,2))\n",
    "\n",
    "dt = torch.tensor(5e-5)\n",
    "beta = torch.tensor(5)\n",
    "beta_np = 5\n",
    "M = 300\n",
    "cap_length = 500000\n",
    "# randomized initial points\n",
    "X0 = torch.tensor(Abdry_reshaped, dtype = torch.float32)"
   ]
  },
  {
   "cell_type": "code",
   "execution_count": 3,
   "id": "04aa7f32",
   "metadata": {},
   "outputs": [],
   "source": [
    "save_file = 'tau_dt_5e-5_'+'traj_cap_'+str(cap_length)+'_all.npy'\n",
    "# control_traj_LJ7.running_traj(save_file, cap_length,M,beta,dt,model, X0)"
   ]
  },
  {
   "cell_type": "code",
   "execution_count": 4,
   "id": "5d10254d",
   "metadata": {},
   "outputs": [],
   "source": [
    "# compute rho_AB\n",
    "rho_AB_NN, nu_AB_NN, rho_A_NN = rates.rates_NNpts(model, beta_np)\n",
    "# rho_A, rho_AB, Rrate = rates.rates_FEMpts(model, beta_np)\n",
    "# print(rho_AB)\n"
   ]
  },
  {
   "cell_type": "code",
   "execution_count": 5,
   "id": "21448f2c",
   "metadata": {},
   "outputs": [],
   "source": [
    "# save_file = './data/break_list_5e-5.npy'"
   ]
  },
  {
   "cell_type": "code",
   "execution_count": 8,
   "id": "c74b8659",
   "metadata": {},
   "outputs": [
    {
     "data": {
      "text/plain": [
       "(0.0, 400000.0)"
      ]
     },
     "execution_count": 8,
     "metadata": {},
     "output_type": "execute_result"
    },
    {
     "data": {
      "image/png": "[encoded data removed]",
      "text/plain": [
       "<Figure size 432x288 with 1 Axes>"
      ]
     },
     "metadata": {
      "needs_background": "light"
     },
     "output_type": "display_data"
    }
   ],
   "source": [
    "# plot histgram of the transition time \n",
    "I = np.load(save_file)\n",
    "I = I[I < 500000]\n",
    "plt.hist(I, bins=8)\n",
    "plt.yscale('log')\n",
    "plt.xlim([0,400000])"
   ]
  },
  {
   "cell_type": "code",
   "execution_count": 21,
   "id": "dfd4b034",
   "metadata": {},
   "outputs": [
    {
     "name": "stdout",
     "output_type": "stream",
     "text": [
      "E_tau_AB: 4.883, with plus/minus 0.48275848411439004\n",
      "rho_AB using NN: 0.1057\n",
      "transition rate for beta = 5 with TPT is 0.0973\n",
      "transition rate for beta = 5 with simulations is 0.02165\n",
      "confidence interval for transition rate is: [0.0197,0.02403]\n"
     ]
    }
   ],
   "source": [
    "dt =5e-5\n",
    "\n",
    "E_tau, E_tau_var, nu_AB_siml, lower, upper = rates.transition_rate_sample(dt,I,rho_AB_NN)\n",
    "\n",
    "print('E_tau_AB: {:.4}, with plus/minus {}'.format(E_tau, E_tau_var))\n",
    "print('rho_AB using NN: {:.4}'.format(rho_AB_NN))\n",
    "print('transition rate for beta = 5 with TPT is {:.4}'.format(nu_AB_NN))\n",
    "print('transition rate for beta = 5 with simulations is {:.4}'.format(nu_AB_siml))\n",
    "print('confidence interval for transition rate is: [{:.4},{:.4}]'.format(lower, upper))"
   ]
  },
  {
   "cell_type": "markdown",
   "id": "9cacafc5",
   "metadata": {},
   "source": [
    "# plot trajectories"
   ]
  },
  {
   "cell_type": "code",
   "execution_count": 6,
   "id": "a1e347b1",
   "metadata": {},
   "outputs": [],
   "source": [
    "# torch.manual_seed(125)\n",
    "# X,Y,X_orig,Y_orig = control_traj_LJ7.plot_traj(50000,1,beta,dt,model,X0)\n"
   ]
  },
  {
   "cell_type": "code",
   "execution_count": 7,
   "id": "2faa52e8",
   "metadata": {},
   "outputs": [],
   "source": [
    "# np.savez('./data/sample_trajectories_2.npz', Mu2i = X.detach().numpy(), Mu3i = Y.detach().numpy(),\n",
    "#         Mu2i_orig = X_orig.detach().numpy(), Mu3i_orig = Y_orig.detach().numpy())"
   ]
  },
  {
   "cell_type": "markdown",
   "id": "050110cf",
   "metadata": {},
   "source": []
  }
 ],
 "metadata": {
  "kernelspec": {
   "display_name": "Python 3 (ipykernel)",
   "language": "python",
   "name": "python3"
  },
  "language_info": {
   "codemirror_mode": {
    "name": "ipython",
    "version": 3
   },
   "file_extension": ".py",
   "mimetype": "text/x-python",
   "name": "python",
   "nbconvert_exporter": "python",
   "pygments_lexer": "ipython3",
   "version": "3.9.7"
  }
 },
 "nbformat": 4,
 "nbformat_minor": 5
}
