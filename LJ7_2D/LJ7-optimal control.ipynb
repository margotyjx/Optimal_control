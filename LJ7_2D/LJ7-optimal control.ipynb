{
 "cells": [
  {
   "cell_type": "code",
   "execution_count": 1,
   "id": "686c8286",
   "metadata": {},
   "outputs": [],
   "source": [
    "import numpy as np\n",
    "import torch\n",
    "import torch.nn as nn\n",
    "from pathlib import Path\n",
    "import matplotlib.pyplot as plt\n",
    "from torch.utils.data import TensorDataset\n",
    "from torch.utils.data import DataLoader\n",
    "import torch.optim as optim\n",
    "import scipy.interpolate\n",
    "import math\n",
    "from LJ7.FEM_TPT import *\n",
    "import scipy.stats\n",
    "pitorch = torch.Tensor([math.pi])"
   ]
  },
  {
   "cell_type": "code",
   "execution_count": 2,
   "id": "f69fc1b3",
   "metadata": {
    "code_folding": [
     0,
     12,
     29,
     43
    ]
   },
   "outputs": [],
   "source": [
    "def LJpot(x): # Lennard-Jones potential, x is the position of each particles\n",
    "    Na = x.shape[1] # x has shape [2,7] \n",
    "    r2 = torch.zeros((Na,Na)) # matrix of distances squared\n",
    "    for k in range(Na):\n",
    "        r2[k,:] = (x[0,:]-x[0,k])**2 + (x[1,:]-x[1,k])**2\n",
    "        r2[k,k] = 1\n",
    "    er6 = torch.div(torch.ones_like(r2),r2**3) \n",
    "    L = (er6-torch.tensor(1))*er6\n",
    "    V = 2*torch.sum(L) \n",
    "    return V\n",
    "\n",
    "#dV/dx_i = 4*sum_{i\\neq j}(-12r_{ij}^{-13} + 6r_{ij}^{-7})*(x_i/r_{ij})\n",
    "def LJgrad(x):\n",
    "    Na = x.shape[1]\n",
    "    r2 = torch.zeros((Na,Na)) # matrix of distances squared\n",
    "    for k in range(Na):\n",
    "        r2[k,:] = (x[0,:]-x[0,k])**2 + (x[1,:]-x[1,k])**2\n",
    "        r2[k,k] = 1\n",
    "    r6 = r2**3\n",
    "    L = -6*torch.div((2*torch.div(torch.ones_like(r2),r6)-1),(r2*r6)) # use r2 as variable instead of r\n",
    "    g = torch.zeros_like(x)\n",
    "    for k in range(Na):\n",
    "        Lk = L[:,k]\n",
    "        g[0,k] = torch.sum((x[0,k] - x[0,:])*Lk)\n",
    "        g[1,k] = torch.sum((x[1,k] - x[1,:])*Lk)\n",
    "    g = 4*g \n",
    "    return g\n",
    "\n",
    "\n",
    "def chiAB(X):\n",
    "    a = torch.tensor([0.5526,-0.0935])\n",
    "    b = torch.tensor([0.7184,1.1607])\n",
    "    rA = torch.tensor(0.1034)\n",
    "    rB = torch.tensor(0.03)\n",
    "#     rA = torch.tensor(0.1034)\n",
    "#     rB = torch.tensor(0.07275)\n",
    "    m = nn.Tanh()\n",
    "    sizex, nothing = X.shape\n",
    "    chiA = 0.5 - 0.5*m(1000*((((X - a).pow(2)).sum(dim = 1).reshape(sizex,1))-(rA + torch.tensor(0.02)).pow(2)))                     \n",
    "    chiB = 0.5 - 0.5*m(1000*((((X - b).pow(2)).sum(dim = 1).reshape(sizex,1))-(rB + torch.tensor(0.02)).pow(2)))       \n",
    "                             \n",
    "    return chiA, chiB\n",
    "\n",
    "def q_theta(X,chiA,chiB,q_tilde):\n",
    "    Q = (torch.tensor([1]) - chiA)*(q_tilde*(torch.tensor([1]) - chiB)+chiB)\n",
    "    return Q\n"
   ]
  },
  {
   "cell_type": "code",
   "execution_count": 3,
   "id": "2958cf31",
   "metadata": {
    "code_folding": [
     0
    ]
   },
   "outputs": [],
   "source": [
    "class LJ7_2(nn.Module):\n",
    "    \"\"\"Feedfoward neural network with 2 hidden layer\"\"\"\n",
    "    def __init__(self, in_size, hidden_size,hidden_size2, out_size):\n",
    "        super().__init__()\n",
    "        # 1st hidden layer\n",
    "        self.linear1 = nn.Linear(in_size, hidden_size)\n",
    "        # 2nd hidden layer\n",
    "        self.linear2 = nn.Linear(hidden_size,hidden_size2)\n",
    "        # output layer\n",
    "        self.linear3 = nn.Linear(hidden_size2, out_size)\n",
    "        \n",
    "    def forward(self, xb):\n",
    "        # Get information from the data\n",
    "#         xb = torch.cat((torch.sin(xb),torch.cos(xb)),dim = 1)\n",
    "        # Get intermediate outputs using hidden layer\n",
    "        out = self.linear1(xb)\n",
    "        # Apply activation function\n",
    "        tanhf = nn.Tanh()\n",
    "        out = tanhf(out)\n",
    "        # Get predictions using output layer\n",
    "        out = self.linear2(out)\n",
    "        # apply activation function again\n",
    "        out = tanhf(out)\n",
    "        # last hidden layer \n",
    "        out = self.linear3(out)\n",
    "        #sigmoid function\n",
    "        out = torch.sigmoid(out)\n",
    "        return out"
   ]
  },
  {
   "cell_type": "code",
   "execution_count": 5,
   "id": "6d6de41f",
   "metadata": {
    "code_folding": [
     1,
     14,
     22,
     29,
     34
    ]
   },
   "outputs": [],
   "source": [
    "# torch version\n",
    "def C(x):\n",
    "    Na = x.shape[1] # x has shape [2,7]\n",
    "    C = torch.zeros(Na)\n",
    "    r2 = torch.zeros((Na,Na)) # matrix of distances squared\n",
    "    for k in range(Na):\n",
    "        r2[k,:] = (x[0,:]-x[0,k])**2 + (x[1,:]-x[1,k])**2\n",
    "        r2[k,k] = 0\n",
    "    for i in range(Na):\n",
    "        ci = torch.div(torch.ones_like(r2[i,:]) - (r2[i,:]/2.25)**4, torch.ones_like(r2[i,:]) - (r2[i,:]/2.25)**8)\n",
    "        ci_sum = torch.sum(ci) - torch.tensor(1)\n",
    "        C[i] = ci_sum\n",
    "    return C\n",
    "\n",
    "def mu2n3(x):\n",
    "    C_list = C(x)\n",
    "    ave_C = torch.mean(C_list)\n",
    "    mu2 = torch.mean((C_list - ave_C)**2)\n",
    "    mu3 = torch.mean((C_list - ave_C)**3)\n",
    "    return mu2, mu3\n",
    "\n",
    "# derivative of mu_2 and mu_3 with respect to x\n",
    "def deriv_mu(mu2,mu3,x):\n",
    "    derivmu2 = torch.autograd.grad(mu2,x,allow_unused=True, retain_graph=True, \\\n",
    "                                             grad_outputs = torch.ones_like(mu2), create_graph=True)\n",
    "    derivmu3 = torch.autograd.grad(mu3,x,allow_unused=True, retain_graph=True, \\\n",
    "                                             grad_outputs = torch.ones_like(mu3), create_graph=True)\n",
    "    return derivmu2,derivmu3\n",
    "\n",
    "def deriv_q(Q,x):\n",
    "    derivQ = torch.autograd.grad(Q,x,allow_unused=True, retain_graph=True, \\\n",
    "                                             grad_outputs = torch.ones_like(Q), create_graph=True)\n",
    "    return derivQ[0]\n",
    "\n",
    "def biased_MALAstep(x,pot_x,grad_x,q,grad_q,fpot,fgrad,beta,dt):\n",
    "    std = torch.sqrt(2*dt/beta)    \n",
    "    w = np.random.normal(0.0,std,np.shape(x))\n",
    "    \"\"\"\n",
    "    When the point is too close to A, derivQ = 0, Q = 0 return None\n",
    "    \"\"\"\n",
    "    control = torch.tensor(2)/beta*(grad_q/q)\n",
    "    y = x - (grad_x - control)*dt + torch.tensor(w)\n",
    "    pot_y = fpot(y)\n",
    "    grad_y = fgrad(y)\n",
    "    qxy =  torch.sum(torch.tensor(w)**2)  #||w||^2\n",
    "    qyx = torch.sum((x - y + dt*grad_y)**2) # ||x-y+dt*grad V(y)||\n",
    "    alpha = torch.exp(-beta*(pot_y-pot_x+(qyx-qxy)*0.25/dt))\n",
    "#     x = y\n",
    "#     pot_x = pot_y\n",
    "#     grad_x = grad_y\n",
    "    if alpha >= 1: # accept move \n",
    "        x = y\n",
    "        pot_x = pot_y\n",
    "        grad_x = grad_y\n",
    "    else:    \n",
    "        eta = np.random.uniform(0.0,1.0,(1,))\n",
    "        if eta < alpha.detach().numpy(): # accept move \n",
    "            x = y\n",
    "            pot_x = pot_y\n",
    "            grad_x = grad_y\n",
    "            # print(\"ACCEPT: alpha = \",alpha,\" eta = \",eta)\n",
    "        else:\n",
    "            pass\n",
    "    return x,pot_x,grad_x    "
   ]
  },
  {
   "cell_type": "code",
   "execution_count": 6,
   "id": "1a82023f",
   "metadata": {
    "code_folding": [
     0
    ]
   },
   "outputs": [],
   "source": [
    "def running_traj(Time,M,beta,dt,X0):\n",
    "    I = (Time+100)*torch.ones(M)\n",
    "    Rx = 0.15\n",
    "    Ry = 0.03\n",
    "    theta = 5*pitorch/12\n",
    "    \n",
    "    a = [0.5526,-0.0935]\n",
    "    for m in range(M):\n",
    "        print('iteration ',m)\n",
    "        X = X0[:,:,m]\n",
    "        pot_x = LJpot(X)\n",
    "        grad_x = LJgrad(X)\n",
    "        X.requires_grad_(True)\n",
    "        mu2, mu3 = mu2n3(X) # collective variables\n",
    "        flag = 0\n",
    "        \n",
    "#         Mu2i = torch.tensor([]) \n",
    "#         Mu3i = torch.tensor([])\n",
    "        \n",
    "        for i in range(Time):\n",
    "            b = torch.tensor([0.7184,1.1607])\n",
    "            \n",
    "            Mu = torch.cat((mu2.reshape(1,1),mu3.reshape(1,1)),1)\n",
    "\n",
    "            chia,chib = chiAB(Mu)\n",
    "            q_tilde = model(Mu)\n",
    "            Q = q_theta(Mu,chia,chib,q_tilde)\n",
    "            derivQ = deriv_q(Q,X)\n",
    "            \n",
    "#             print(Q)\n",
    "            # here we calculate new_x, with its potential and gradient calculated\n",
    "            X,pot_x,grad_x = biased_MALAstep(X,pot_x,grad_x,Q,derivQ,LJpot,LJgrad,beta,dt)\n",
    "#             X,pot_x,grad_x = biased_MALAstep_reflect(X,pot_x,grad_x,Q,derivQ,LJpot,LJgrad,beta,dt)\n",
    "            # in collective variables\n",
    "            X.requires_grad_(True)\n",
    "            mu2, mu3 = mu2n3(X)\n",
    "            \n",
    "\n",
    "            # from the time when the trajectory hit B, values in list chi_B will become one\n",
    "            if flag == 0:\n",
    "                distB = ((mu2 - b[0])*torch.cos(theta)+(mu3 - b[1])*torch.sin(theta))**2/(Rx**2) + \\\n",
    "                ((mu2 - b[0])*torch.sin(theta)-(mu3 - b[1])*torch.cos(theta))**2/(Ry**2)\n",
    "                \n",
    "                if distB <= torch.tensor(1):\n",
    "                    flag = 1\n",
    "                    I[m] = i \n",
    "                    print('we break at: ', i)\n",
    "                    break\n",
    "                    \n",
    "    return I\n",
    "                "
   ]
  },
  {
   "cell_type": "markdown",
   "id": "59059a47",
   "metadata": {},
   "source": [
    "# Estimation of transition rate through NNs"
   ]
  },
  {
   "cell_type": "code",
   "execution_count": 8,
   "id": "8c922b93",
   "metadata": {},
   "outputs": [
    {
     "data": {
      "text/plain": [
       "LJ7_2(\n",
       "  (linear1): Linear(in_features=2, out_features=10, bias=True)\n",
       "  (linear2): Linear(in_features=10, out_features=10, bias=True)\n",
       "  (linear3): Linear(in_features=10, out_features=1, bias=True)\n",
       ")"
      ]
     },
     "execution_count": 8,
     "metadata": {},
     "output_type": "execute_result"
    }
   ],
   "source": [
    "model = torch.load('./data/LJ7_2hidden_LJ7.pt')\n",
    "model.eval()"
   ]
  },
  {
   "cell_type": "code",
   "execution_count": 9,
   "id": "04aa7f32",
   "metadata": {},
   "outputs": [],
   "source": [
    "# Import initial points\n",
    "Data = np.load(\"./data/Mala Boundary Samples re-1.npz\")\n",
    "Abdry = Data['ABord']\n",
    "Abdry_reshaped = np.transpose(Abdry.reshape((7,2,200)),(1,0,2))"
   ]
  },
  {
   "cell_type": "code",
   "execution_count": 10,
   "id": "d48909c2",
   "metadata": {},
   "outputs": [],
   "source": [
    "dt = torch.tensor(5e-5)\n",
    "beta = torch.tensor(5)\n",
    "M = 100\n",
    "\n",
    "# randomized initial points\n",
    "init = np.random.randint(200, size=M)\n",
    "X0 = torch.tensor(Abdry_reshaped[:,:,init])"
   ]
  },
  {
   "cell_type": "code",
   "execution_count": 11,
   "id": "c583aeaa",
   "metadata": {},
   "outputs": [],
   "source": [
    "# I = running_traj(400000,M,beta,dt,X0)\n",
    "# torch.save(I,'break_list_5e-5.pt')"
   ]
  },
  {
   "cell_type": "code",
   "execution_count": 12,
   "id": "d28fabda",
   "metadata": {},
   "outputs": [],
   "source": [
    "# Import free energy and diffusion matrix on grid points\n",
    "Free = np.load('./data/LJ7_free_energy_optimal_control.npz')\n",
    "free_energy_grid = Free[\"free_energy_ongrid\"]\n",
    "free_energy_grid = torch.tensor(free_energy_grid,dtype = torch.float32)\n",
    "\n",
    "M_file = np.load('M_diffusion.npz')\n",
    "diffusion = M_file['M_diffusion']\n",
    "diffusion = torch.tensor(diffusion,dtype = torch.float32)"
   ]
  },
  {
   "cell_type": "code",
   "execution_count": 13,
   "id": "d3fd754c",
   "metadata": {},
   "outputs": [
    {
     "name": "stdout",
     "output_type": "stream",
     "text": [
      "BY NN: rho_A is 0.351812004818152, rho_AB is 0.11331474819250421, transition rate is 0.10340255101582875\n"
     ]
    }
   ],
   "source": [
    "# Test data for estimation of NN result\n",
    "beta = 5\n",
    "data_folder = Path('./LJ7')\n",
    "pts = np.loadtxt(data_folder/'LJ7_pts_ABellipses.csv', delimiter=',', dtype=float)\n",
    "tri = np.loadtxt(data_folder/'LJ7_tri_ABellipses.csv', delimiter=',', dtype=int)\n",
    "q = np.loadtxt(data_folder/'LJ7_ABellipses_q.csv', delimiter=',', dtype=float)\n",
    "Fpts = np.loadtxt(data_folder/'LJ7_ABellipses_free.csv', delimiter=',', dtype=float)\n",
    "Apts = np.loadtxt(data_folder/'LJ7_Apts.csv', delimiter=',', dtype=float)\n",
    "Atri = np.loadtxt(data_folder/'LJ7_Atri.csv', delimiter=',', dtype=int)\n",
    "Bpts = np.loadtxt(data_folder/'LJ7_Bpts.csv', delimiter=',', dtype=float)\n",
    "Btri = np.loadtxt(data_folder/'LJ7_Btri.csv', delimiter=',', dtype=int)\n",
    "Fpts_A = np.loadtxt(data_folder/'Fpts_A.csv', delimiter=',', dtype=float)\n",
    "Fpts_B = np.loadtxt(data_folder/'Fpts_B.csv', delimiter=',', dtype=float)\n",
    "M11pts = np.loadtxt(data_folder/'M11.csv', delimiter=',', dtype=float)\n",
    "M12pts = np.loadtxt(data_folder/'M12.csv', delimiter=',', dtype=float)\n",
    "M22pts = np.loadtxt(data_folder/'M22.csv', delimiter=',', dtype=float)\n",
    "\n",
    "pts_tch = torch.tensor(pts,dtype = torch.float32)\n",
    "\n",
    "chia,chib = chiAB(pts_tch)\n",
    "q_tilde = model(pts_tch)\n",
    "Q = q_theta(pts_tch,chia,chib,q_tilde)\n",
    "# derivQ = torch.autograd.grad(Q,pts_beta10,allow_unused=True, retain_graph=True, \\\n",
    "#                             grad_outputs = torch.ones_like(Q), create_graph=True)[0]\n",
    "Q_minus = torch.tensor(1) - Q\n",
    "\n",
    "beta_tensor = 5\n",
    "Z = invariant_pdf(pts,tri,Apts,Atri,Bpts,Btri,Fpts,Fpts_A,Fpts_B,beta)\n",
    "\n",
    "Rcurrent, Rrate = reactive_current_and_transition_rate_updated(pts,tri,Fpts,\n",
    "                                                    M11pts,M12pts,M22pts,beta,\n",
    "                                                               Q.detach().numpy().squeeze(),Z)\n",
    "\n",
    "rho_AB = probability_reactive(pts,tri,Fpts,beta,Q.detach().numpy().squeeze(),Z)\n",
    "\n",
    "rho_A = probability_last_A(pts,tri,Apts,Atri,Fpts,Fpts_A,beta,Q.detach().numpy().squeeze(),Z)\n",
    "\n",
    "\n",
    "print(\"\"\"BY NN: rho_A is {}, rho_AB is {}, transition rate is {}\"\"\".format(rho_A,rho_AB,Rrate))\n",
    "\n"
   ]
  },
  {
   "cell_type": "markdown",
   "id": "5a9b699a",
   "metadata": {},
   "source": [
    "Use results from controlled process"
   ]
  },
  {
   "cell_type": "code",
   "execution_count": 15,
   "id": "a01dbb28",
   "metadata": {},
   "outputs": [],
   "source": [
    "I = torch.load('./data/break_list_5e-5.pt')\n",
    "# I = torch.load('break_list_5e-5_new.pt')"
   ]
  },
  {
   "cell_type": "code",
   "execution_count": 16,
   "id": "f33b69d0",
   "metadata": {},
   "outputs": [],
   "source": [
    "def mean_confidence_interval(data, confidence=0.95):\n",
    "    n = len(data)\n",
    "    m, se = np.mean(data), scipy.stats.sem(data)\n",
    "    h = se * scipy.stats.t.ppf((1 + confidence) / 2., n-1)\n",
    "    return m, m-h, m+h"
   ]
  },
  {
   "cell_type": "code",
   "execution_count": 17,
   "id": "dfd4b034",
   "metadata": {},
   "outputs": [
    {
     "name": "stdout",
     "output_type": "stream",
     "text": [
      "E_tau_AB: 5.490517578125\n",
      "1/E_tau_AB: 0.18213219168701722\n",
      "transition rate for beta = 5 is: 0.020638263438763266\n",
      "confidence interval for transition rate is: [0.017983455977475766,0.02421265655681163]\n"
     ]
    }
   ],
   "source": [
    "dt =5e-5\n",
    "\n",
    "average_time_steps,left,right = mean_confidence_interval(I.detach().numpy())\n",
    "average_time = average_time_steps*dt\n",
    "estimated_rate = 1/average_time\n",
    "print('E_tau_AB: {}'.format(average_time))\n",
    "print('1/E_tau_AB: {}'.format(estimated_rate))\n",
    "transition_rate = rho_AB/average_time\n",
    "print('transition rate for beta = 5 is: {}'.format(transition_rate))\n",
    "conf_left = rho_AB/(right*dt)\n",
    "conf_right = rho_AB/(left*dt)\n",
    "print('confidence interval for transition rate is: [{},{}]'.format(conf_left,conf_right))"
   ]
  },
  {
   "cell_type": "markdown",
   "id": "050110cf",
   "metadata": {},
   "source": []
  }
 ],
 "metadata": {
  "kernelspec": {
   "display_name": "Python 3 (ipykernel)",
   "language": "python",
   "name": "python3"
  },
  "language_info": {
   "codemirror_mode": {
    "name": "ipython",
    "version": 3
   },
   "file_extension": ".py",
   "mimetype": "text/x-python",
   "name": "python",
   "nbconvert_exporter": "python",
   "pygments_lexer": "ipython3",
   "version": "3.9.7"
  }
 },
 "nbformat": 4,
 "nbformat_minor": 5
}
