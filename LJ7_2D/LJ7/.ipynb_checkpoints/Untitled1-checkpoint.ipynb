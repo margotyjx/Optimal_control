{
 "cells": [
  {
   "cell_type": "code",
   "execution_count": null,
   "id": "dccd00b7-243e-4ef5-b8a0-3738488058c5",
   "metadata": {},
   "outputs": [],
   "source": [
    "# full Langevin dynamics of LJ7 in 2D\n",
    "import numpy as np\n",
    "import matplotlib.pyplot as plt\n",
    "from sklearn.cluster import KMeans\n",
    "import scipy\n"
   ]
  },
  {
   "cell_type": "code",
   "execution_count": null,
   "id": "68c53a65-f1a8-461b-b2a8-c50e5e0705c1",
   "metadata": {},
   "outputs": [],
   "source": []
  }
 ],
 "metadata": {
  "kernelspec": {
   "display_name": "Python 3 (ipykernel)",
   "language": "python",
   "name": "python3"
  },
  "language_info": {
   "codemirror_mode": {
    "name": "ipython",
    "version": 3
   },
   "file_extension": ".py",
   "mimetype": "text/x-python",
   "name": "python",
   "nbconvert_exporter": "python",
   "pygments_lexer": "ipython3",
   "version": "3.9.12"
  }
 },
 "nbformat": 4,
 "nbformat_minor": 5
}
