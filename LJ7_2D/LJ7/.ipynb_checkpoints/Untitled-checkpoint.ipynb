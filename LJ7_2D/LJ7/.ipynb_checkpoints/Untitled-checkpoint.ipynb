{
 "cells": [
  {
   "cell_type": "code",
   "execution_count": 1,
   "id": "d8088b90-b2bb-4c66-86cc-ed677f183509",
   "metadata": {},
   "outputs": [],
   "source": [
    "import numpy as np\n",
    "import matplotlib.pyplot as plt\n",
    "import scipy\n",
    "\n",
    "# runs MALA for LJ7 in 2D\n",
    "beta = 5 # temperature T = 0.2\n",
    "\n",
    "def LJpot(x): # Lennard-Jones potential\n",
    "    Na = np.size(x,axis = 1)\n",
    "    r2 = np.zeros((Na,Na)) # matrix of distances squared\n",
    "    for k in range(Na):\n",
    "        r2[k,:] = (x[0,:]-x[0,k])**2 + (x[1,:]-x[1,k])**2\n",
    "        r2[k,k] = 1\n",
    "    er6 = np.divide(np.ones_like(r2),r2**3)\n",
    "    L = (er6-1)*er6\n",
    "    V = 2*np.sum(L) \n",
    "    return V\n",
    "\n",
    "def LJgrad(x):\n",
    "    Na = np.size(x,axis = 1)\n",
    "    r2 = np.zeros((Na,Na)) # matrix of distances squared\n",
    "    for k in range(Na):\n",
    "        r2[k,:] = (x[0,:]-x[0,k])**2 + (x[1,:]-x[1,k])**2\n",
    "        r2[k,k] = 1\n",
    "    r6 = r2**3\n",
    "    L = -6*np.divide((2*np.divide(np.ones_like(r2),r6)-1),(r2*r6))\n",
    "    g = np.zeros_like(x)\n",
    "    for k in range(Na):\n",
    "        Lk = L[:,k]\n",
    "        g[0,k] = np.sum((x[0,k] - x[0,:])*Lk)\n",
    "        g[1,k] = np.sum((x[1,k] - x[1,:])*Lk)\n",
    "    g = 4*g\n",
    "    return g\n",
    "\n",
    "xmin = -2.5\n",
    "xmax = 2.5\n",
    "ymin = -2.5\n",
    "ymax = 2.5\n",
    "bbox = np.array([[xmin,xmax],[ymin,ymax]]) \n"
   ]
  },
  {
   "cell_type": "code",
   "execution_count": 2,
   "id": "d777cf34-1e5f-4a2c-838a-fb8bf8b3ced3",
   "metadata": {},
   "outputs": [],
   "source": [
    "# MALA time step\n",
    "# x = current position\n",
    "# y = proposed position\n",
    "# pi(x), pi(y) = pdf at x and y\n",
    "# pi(x) = Z^{-1}exp(-beta*V(x)), pi(y) = Z^{-1}exp(-beta*V(y))\n",
    "# q(x-->y) = transition pdf from x to y\n",
    "# q(y--x) = transition pdf from y to x\n",
    "# y = x - dt*grad V(x) + w, where w ~ N(0,(2*dt/beta) I), I is d-by-d identity matrix\n",
    "# hence q(x-->y) = Z1^{-1} exp( - beta||w||^2/(4*dt) )\n",
    "# q(y-->x) = Z1^{-1} exp( - beta||x-y+dt*grad V(y)||^2/(4*dt) )\n",
    "# acceptance ratio: alpha = pi(y)*q(y-->x)/[pi(x)*q(x-->y)]\n",
    "# alpha = exp(-beta*{V(y)-V(x) +[ ||x-y+dt*grad V(y)||^2 - ||w||^2 ]/(4*dt) } )\n",
    "# accept move with probability min{alpha,1}\n",
    "def MALAstep(x,pot_x,grad_x,fpot,fgrad,beta,dt,std):\n",
    "    # std = sqrt(2*dt/beta)    \n",
    "    w = np.random.normal(0.0,std,np.shape(x))\n",
    "    y = x - dt*grad_x + w\n",
    "    pot_y = fpot(y)\n",
    "    grad_y = fgrad(y)\n",
    "    qxy =  np.sum(w**2)\n",
    "    qyx = np.sum((x - y + dt*grad_y)**2)\n",
    "    alpha = np.exp(-beta*(pot_y-pot_x+(qyx-qxy)*0.25/dt))\n",
    "    if alpha < 1: # accept move \n",
    "        x = y\n",
    "        pot_x = pot_y\n",
    "        grad_x = grad_y\n",
    "        # print(\"ACCEPT: alpha = \",alpha)\n",
    "    else:    \n",
    "        eta = np.random.uniform(0.0,1.0,(1,))\n",
    "        if eta < alpha: # accept move \n",
    "            x = y\n",
    "            pot_x = pot_y\n",
    "            grad_x = grad_y\n",
    "            # print(\"ACCEPT: alpha = \",alpha,\" eta = \",eta)\n",
    "        else:\n",
    "            print(\"REJECT: alpha = \",alpha,\" eta = \",eta)\n",
    "    return x,pot_x,grad_x    "
   ]
  },
  {
   "cell_type": "code",
   "execution_count": 3,
   "id": "918baa10-0383-45ed-9d17-8cb06e02f9d0",
   "metadata": {},
   "outputs": [
    {
     "name": "stdout",
     "output_type": "stream",
     "text": [
      "LJpot(x) =  -11.398213316380577\n"
     ]
    },
    {
     "data": {
      "text/plain": [
       "Text(0, 0.5, 'Potential energy')"
      ]
     },
     "execution_count": 3,
     "metadata": {},
     "output_type": "execute_result"
    },
    {
     "data": {
      "image/png": "[encoded data removed]",
      "text/plain": [
       "<Figure size 432x288 with 1 Axes>"
      ]
     },
     "metadata": {
      "needs_background": "light"
     },
     "output_type": "display_data"
    }
   ],
   "source": [
    "# initial configuration\n",
    "rstar = np.power(2.0,1/6) # the optimal LJ distance\n",
    "aux = 0.5*np.sqrt(3)\n",
    "x = rstar*np.array([[-1.5,-0.5,0.5,1.5,-1.0,0.0,1.0],[0.0,0.0,0.0,0.0,aux,aux,aux]]) # trapezoid\n",
    "pot_x = LJpot(x)\n",
    "print(\"LJpot(x) = \",pot_x)\n",
    "grad_x = LJgrad(x)\n",
    "\n",
    "# time step\n",
    "dt = 1e-6\n",
    "std = np.sqrt(2*dt/beta)\n",
    "Nsteps = 100000\n",
    "LJpotdata = np.zeros((Nsteps+1,))\n",
    "LJpotdata[0] = pot_x\n",
    "\n",
    "for j in range(Nsteps):\n",
    "    x,pot_x,grad_x = MALAstep(x,pot_x,grad_x,LJpot,LJgrad,beta,dt,std)\n",
    "    LJpotdata[j+1] = pot_x\n",
    "    \n",
    "plt.plot(LJpotdata)    \n",
    "plt.xlabel('Time step index')\n",
    "plt.ylabel('Potential energy')\n",
    "\n",
    "\n",
    "\n"
   ]
  }
 ],
 "metadata": {
  "kernelspec": {
   "display_name": "Python 3 (ipykernel)",
   "language": "python",
   "name": "python3"
  },
  "language_info": {
   "codemirror_mode": {
    "name": "ipython",
    "version": 3
   },
   "file_extension": ".py",
   "mimetype": "text/x-python",
   "name": "python",
   "nbconvert_exporter": "python",
   "pygments_lexer": "ipython3",
   "version": "3.9.12"
  }
 },
 "nbformat": 4,
 "nbformat_minor": 5
}
