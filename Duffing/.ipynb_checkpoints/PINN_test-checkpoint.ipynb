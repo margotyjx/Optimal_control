{
 "cells": [
  {
   "cell_type": "code",
   "execution_count": 1,
   "id": "d25f3e79",
   "metadata": {},
   "outputs": [],
   "source": [
    "import numpy as np\n",
    "import torch\n",
    "from torch.autograd import Variable\n",
    "import torch.nn as nn\n",
    "import pandas as pd\n",
    "import matplotlib.pyplot as plt\n",
    "import numpy \n",
    "\n",
    "import math\n"
   ]
  },
  {
   "cell_type": "code",
   "execution_count": 4,
   "id": "7ff05045",
   "metadata": {},
   "outputs": [],
   "source": [
    "# Original potential function\n",
    "class functions:\n",
    "    def __init__(self,beta,alpha):\n",
    "        self.beta = beta\n",
    "        self.alpha = alpha\n",
    "        \n",
    "    def funU(self,x):\n",
    "        U = 0.5*self.beta*(x**2) + 1/4*self.alpha*(x**4)\n",
    "\n",
    "        return U\n",
    "\n",
    "    def funT(self,p):\n",
    "        T = 0.5*(p**2)\n",
    "        return T\n",
    "\n",
    "    def dU(self,x):\n",
    "        dUx = x*(self.beta + self.alpha * (x**2))\n",
    "\n",
    "        return dUx"
   ]
  },
  {
   "cell_type": "markdown",
   "id": "2c65f4d5",
   "metadata": {},
   "source": [
    "## NN models"
   ]
  },
  {
   "cell_type": "code",
   "execution_count": 5,
   "id": "f6db7262",
   "metadata": {},
   "outputs": [],
   "source": [
    "class Model1(nn.Module):\n",
    "    \"\"\"Feedfoward neural network with 1 hidden layer\"\"\"\n",
    "    def __init__(self, in_size, hidden_size, out_size):\n",
    "        super().__init__()\n",
    "        # hidden layer\n",
    "        self.linear1 = nn.Linear(in_size, hidden_size)\n",
    "        # output layer\n",
    "        self.linear2 = nn.Linear(hidden_size, out_size)\n",
    "        \n",
    "    def forward(self, xb):\n",
    "        # Get intermediate outputs using hidden layer\n",
    "        out = self.linear1(xb)\n",
    "        # Apply activation function\n",
    "        tanhf = nn.Tanh()\n",
    "        out = tanhf(out)\n",
    "        # Get predictions using output layer\n",
    "        out = self.linear2(out)\n",
    "        # apply activation function again\n",
    "        out = torch.sigmoid(out)\n",
    "        return out"
   ]
  },
  {
   "cell_type": "code",
   "execution_count": 8,
   "id": "62b5c582",
   "metadata": {},
   "outputs": [],
   "source": [
    "# import all training data from files\n",
    "# train_data = torch.load('train_data_beta20.pt')\n",
    "# train_data.requires_grad_(True)\n",
    "# plt.scatter(train_data[:,0].detach().numpy(), train_data[:,1].detach().numpy(),s = 0.1)\n",
    "# plt.xlim([-4,4])\n",
    "# plt.ylim([-4,4])"
   ]
  },
  {
   "cell_type": "code",
   "execution_count": 9,
   "id": "ac10aaf6",
   "metadata": {},
   "outputs": [
    {
     "name": "stdout",
     "output_type": "stream",
     "text": [
      "torch.Size([160000, 2])\n"
     ]
    },
    {
     "data": {
      "text/plain": [
       "(-4.0, 4.0)"
      ]
     },
     "execution_count": 9,
     "metadata": {},
     "output_type": "execute_result"
    },
    {
     "data": {
      "image/png": "[encoded data removed]",
      "text/plain": [
       "<Figure size 432x288 with 1 Axes>"
      ]
     },
     "metadata": {
      "needs_background": "light"
     },
     "output_type": "display_data"
    }
   ],
   "source": [
    "# Uniform trainning points\n",
    "x = np.linspace(-2.5,2.5,400)\n",
    "y = np.linspace(-2,2,400)\n",
    "x_train, y_train = np.meshgrid(x,y)\n",
    "train_data = torch.tensor(np.hstack((x_train.ravel()[:,None],y_train.ravel()[:,None])),\\\n",
    "                         dtype = torch.float32)\n",
    "train_data.requires_grad_(True)\n",
    "print(train_data.shape)\n",
    "plt.scatter(train_data[:,0].detach().numpy(), train_data[:,1].detach().numpy(),s = 0.1)\n",
    "plt.xlim([-4,4])\n",
    "plt.ylim([-4,4])"
   ]
  },
  {
   "cell_type": "code",
   "execution_count": 11,
   "id": "2a9747ad",
   "metadata": {},
   "outputs": [],
   "source": [
    "# boundary points of A will be denoted as 1, boundary points of B will be 2\n",
    "# non boundary points will be 0\n",
    "category = np.zeros(train_data.shape[0])\n",
    "\n",
    "for i in range(train_data.shape[0]):\n",
    "    a = torch.tensor([-1,0])\n",
    "    b = torch.tensor([1,0])\n",
    "    rx = 0.3\n",
    "    ry = 0.4\n",
    "    curr_xy = train_data[i,:]\n",
    "    distB = (curr_xy - b).pow(2)/torch.tensor([0.3**2, 0.4**2])\n",
    "    distA = (curr_xy - a).pow(2)/torch.tensor([0.3**2, 0.4**2])\n",
    "    \n",
    "    if distA.sum() <= 1:\n",
    "        category[i] = 1\n",
    "    elif distB.sum() <= 1:\n",
    "        category[i] = 2"
   ]
  },
  {
   "cell_type": "code",
   "execution_count": 12,
   "id": "07f8950a",
   "metadata": {},
   "outputs": [],
   "source": [
    "Aset = np.argwhere(category == 1)\n",
    "Bset = np.argwhere(category == 2)\n",
    "inset = np.argwhere(category == 0)\n",
    "train_Aset = train_data[Aset[:,0],:]\n",
    "train_Bset = train_data[Bset[:,0],:]\n",
    "train_inset = train_data[inset[:,0],:]\n",
    "torch.save(train_Aset,'trainA.pt')\n",
    "torch.save(train_Bset,'trainB.pt')\n",
    "torch.save(train_inset,'train_in.pt')"
   ]
  },
  {
   "cell_type": "code",
   "execution_count": 13,
   "id": "80a7f96e",
   "metadata": {},
   "outputs": [
    {
     "data": {
      "text/plain": [
       "tensor([[-2.5000, -2.0000],\n",
       "        [-2.4875, -2.0000],\n",
       "        [-2.4749, -2.0000],\n",
       "        ...,\n",
       "        [ 2.4749,  2.0000],\n",
       "        [ 2.4875,  2.0000],\n",
       "        [ 2.5000,  2.0000]], requires_grad=True)"
      ]
     },
     "execution_count": 13,
     "metadata": {},
     "output_type": "execute_result"
    }
   ],
   "source": [
    "train_Aset = torch.load('trainA.pt')\n",
    "train_Bset = torch.load('trainB.pt')\n",
    "train_inset = torch.load('train_in.pt')\n",
    "train_Aset.requires_grad = True\n",
    "train_Bset.requires_grad = True\n",
    "train_inset.requires_grad = True"
   ]
  },
  {
   "cell_type": "code",
   "execution_count": 18,
   "id": "6658ee05",
   "metadata": {},
   "outputs": [],
   "source": [
    "input_size = 2\n",
    "output_size = 1\n",
    "N_neurons = 40\n",
    "# models for 4 different neuron numbers\n",
    "torch.manual_seed(1)\n",
    "model = Model1(input_size,N_neurons,output_size)"
   ]
  },
  {
   "cell_type": "code",
   "execution_count": 19,
   "id": "ada89da8",
   "metadata": {},
   "outputs": [],
   "source": [
    "import torch\n",
    "import torch.onnx as onnx\n",
    "from torch.utils.data import TensorDataset\n",
    "from torch.utils.data import DataLoader\n",
    "\n",
    "size1,size2 = train_inset.shape\n",
    "rhs = torch.zeros(size1,)\n",
    "rhsA = torch.zeros(train_Aset.shape[0],1)\n",
    "rhsB = torch.ones(train_Bset.shape[0],1)\n",
    "train_ds = TensorDataset(train_inset,rhs)\n",
    "batch_size = int(size1/50) # the batch size is the size of the training data\n",
    "train_dl = DataLoader(train_ds, batch_size, shuffle=True)\n",
    "\n",
    "import torch.optim as optim\n",
    "\n",
    "loss_fn = nn.MSELoss()\n",
    "\n",
    "train_dl = DataLoader(train_ds, batch_size, shuffle=True)\n",
    "optimizer1 = optim.Adam(model.parameters(), lr=1e-3)\n"
   ]
  },
  {
   "cell_type": "code",
   "execution_count": 20,
   "id": "7d6b163d",
   "metadata": {},
   "outputs": [],
   "source": [
    "beta = torch.tensor(-1)\n",
    "alpha = torch.tensor(1)\n",
    "gamma = torch.tensor(0.5)\n",
    "Funs = functions(beta,alpha)\n",
    "betaT = torch.tensor(40)\n",
    "# betaT = 20\n"
   ]
  },
  {
   "cell_type": "code",
   "execution_count": 1,
   "id": "40de3852",
   "metadata": {},
   "outputs": [],
   "source": [
    "for epoch in range(500):\n",
    "    for X,y in train_dl:\n",
    "        #X[:,0] are positions, X[:,1] are momentum\n",
    "        \n",
    "        optimizer1.zero_grad()\n",
    "    \n",
    "        Q = model(X)\n",
    "        QA = model(train_Aset)\n",
    "        QB = model(train_Bset)\n",
    "        U = Funs.funU(X[:,0]) # potential energy function\n",
    "        T = Funs.funT(X[:,1]) # kinetic energy function\n",
    "        gradU = Funs.dU(X[:,0])\n",
    "        \n",
    "    \n",
    "        derivQ = torch.autograd.grad(Q,X,allow_unused=True, retain_graph=True, grad_outputs = torch.ones_like(Q), create_graph=True)\n",
    "        dQ = derivQ[0]\n",
    "        \n",
    "        deriv_yx_yy = torch.autograd.grad(dQ[:,1], X,allow_unused=True,grad_outputs=torch.ones_like(dQ[:,0]), \\\n",
    "        retain_graph=True, create_graph=True)\n",
    "        dqqQ = deriv_yx_yy[0][:,1]\n",
    "        \n",
    "        Lq = X[:,1]*dQ[:,0] - gradU*dQ[:,1] - gamma * X[:,1]*dQ[:,1] + gamma/betaT*dqqQ\n",
    "        \n",
    "        lossin = loss_fn(Lq,y)\n",
    "        lossA = loss_fn(QA,rhsA)\n",
    "        lossB = loss_fn(QB,rhsB)\n",
    "        \n",
    "        loss = lossin + 0.5*lossA + 0.5*lossB\n",
    "        loss.backward()\n",
    "        optimizer1.step()\n",
    "    if epoch%25 == 0:\n",
    "        print('Epoch: {}, Loss interior pts: {:.4f}, Loss on A: {:.4f}, Loss on B: {:.4f}'.format(\n",
    "        epoch, lossin, lossA, lossB))\n",
    "    "
   ]
  },
  {
   "cell_type": "code",
   "execution_count": null,
   "id": "b1cf2634",
   "metadata": {},
   "outputs": [],
   "source": [
    "# torch.save(model,'Duffiing_gamma0.5_beta20_PINN_uniform.pt')"
   ]
  },
  {
   "cell_type": "code",
   "execution_count": null,
   "id": "7e06d078",
   "metadata": {},
   "outputs": [],
   "source": [
    "Q = model(train_data)\n",
    "plt.scatter(train_data[:,0].detach().numpy(), train_data[:,1].detach().numpy(),\n",
    "           c = Q.detach().numpy(), s = 0.1)\n",
    "plt.colorbar()\n",
    "# plt.savefig('Duffing_oscillator.png')"
   ]
  },
  {
   "cell_type": "code",
   "execution_count": null,
   "id": "9ece8fd1",
   "metadata": {
    "scrolled": true
   },
   "outputs": [],
   "source": [
    "X_half = np.array([])\n",
    "P_half = np.array([])\n",
    "for i in range(train_data.shape[0]):\n",
    "    if torch.abs(Q[i] - 0.5) < 0.005:\n",
    "        X_half = np.append(X_half, train_data[i,0].detach().numpy())\n",
    "        P_half = np.append(P_half, train_data[i,1].detach().numpy())\n",
    "\n",
    "        \n",
    "plt.scatter(train_data[:,0].detach().numpy(), train_data[:,1].detach().numpy(),\n",
    "           c = Q.detach().numpy(), s = 0.1)\n",
    "plt.scatter(X_half,P_half,s = 0.5,c = 'r')\n",
    "plt.xlim([-4, 4])\n",
    "plt.ylim([-4, 4])\n",
    "plt.colorbar()\n",
    "# plt.savefig('isocommittor_DuffingOscillator_gamma0.5-2hidden_PINN.png')\n",
    "plt.show()\n"
   ]
  },
  {
   "cell_type": "code",
   "execution_count": null,
   "id": "917a1503",
   "metadata": {},
   "outputs": [],
   "source": []
  }
 ],
 "metadata": {
  "kernelspec": {
   "display_name": "Python 3 (ipykernel)",
   "language": "python",
   "name": "python3"
  },
  "language_info": {
   "codemirror_mode": {
    "name": "ipython",
    "version": 3
   },
   "file_extension": ".py",
   "mimetype": "text/x-python",
   "name": "python",
   "nbconvert_exporter": "python",
   "pygments_lexer": "ipython3",
   "version": "3.9.7"
  }
 },
 "nbformat": 4,
 "nbformat_minor": 5
}
