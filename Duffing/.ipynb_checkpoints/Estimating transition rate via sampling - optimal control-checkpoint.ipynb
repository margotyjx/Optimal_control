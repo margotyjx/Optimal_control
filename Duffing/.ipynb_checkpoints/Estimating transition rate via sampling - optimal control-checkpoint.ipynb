{
 "cells": [
  {
   "cell_type": "code",
   "execution_count": 2,
   "id": "ee60a3fd-56fb-4cc0-a408-a2a6b9c9522f",
   "metadata": {
    "code_folding": [
     10,
     17
    ]
   },
   "outputs": [],
   "source": [
    "import numpy as np\n",
    "import torch\n",
    "from torch.autograd import Variable\n",
    "import torch.nn as nn\n",
    "import matplotlib.pyplot as plt\n",
    "import math\n",
    "from numpy.random import choice\n",
    "from pathlib import Path\n",
    "import scipy.interpolate\n",
    "from FEM_TPT import *\n",
    "import scipy.stats\n",
    "pitorch = torch.Tensor([math.pi])\n",
    "\n",
    "\n",
    "def dU(x):\n",
    "    beta = torch.tensor([[-1]])\n",
    "    alpha = torch.tensor([[1]])\n",
    "    dUx = x*(beta + alpha * x**2)\n",
    "    \n",
    "    return dUx\n",
    "\n",
    "def dU_control(beta,gamma,q,gradq):\n",
    "    control = torch.tensor(2)*gamma/beta*(gradq[:,1]/q)\n",
    "    \n",
    "    return control\n",
    "\n"
   ]
  },
  {
   "cell_type": "code",
   "execution_count": 3,
   "id": "f5cfffa4",
   "metadata": {
    "code_folding": [
     0
    ]
   },
   "outputs": [],
   "source": [
    "class Model1(nn.Module):\n",
    "    \"\"\"Feedfoward neural network with 1 hidden layer\"\"\"\n",
    "    def __init__(self, in_size, hidden_size, out_size):\n",
    "        super().__init__()\n",
    "        # hidden layer\n",
    "        self.linear1 = nn.Linear(in_size, hidden_size)\n",
    "        # output layer\n",
    "        self.linear2 = nn.Linear(hidden_size, out_size)\n",
    "        \n",
    "    def forward(self, xb):\n",
    "        # Get intermediate outputs using hidden layer\n",
    "        out = self.linear1(xb)\n",
    "        # Apply activation function\n",
    "        tanhf = nn.Tanh()\n",
    "        out = tanhf(out)\n",
    "        # Get predictions using output layer\n",
    "        out = self.linear2(out)\n",
    "        # apply activation function again\n",
    "        out = torch.sigmoid(out)\n",
    "        return out\n",
    "    "
   ]
  },
  {
   "cell_type": "code",
   "execution_count": 4,
   "id": "4c6d94ce",
   "metadata": {
    "code_folding": [
     0
    ]
   },
   "outputs": [],
   "source": [
    "class Model2(nn.Module):\n",
    "    \"\"\"Feedfoward neural network with 1 hidden layer\"\"\"\n",
    "    def __init__(self, in_size, hidden_size, out_size):\n",
    "        super().__init__()\n",
    "        # hidden layer\n",
    "        self.linear1 = nn.Linear(in_size, hidden_size)\n",
    "        # output layer\n",
    "        self.linear2 = nn.Linear(hidden_size, hidden_size)\n",
    "        self.linear3 = nn.Linear(hidden_size, out_size)\n",
    "        \n",
    "    def forward(self, xb):\n",
    "        # Get intermediate outputs using hidden layer\n",
    "        out = self.linear1(xb)\n",
    "        # Apply activation function\n",
    "        tanhf = nn.Tanh()\n",
    "        out = tanhf(out)\n",
    "        # Get predictions using output layer\n",
    "        out = self.linear2(out)\n",
    "        out = tanhf(out)\n",
    "        out = self.linear3(out)\n",
    "        # apply activation function again\n",
    "        out = torch.sigmoid(out)\n",
    "        return out"
   ]
  },
  {
   "cell_type": "code",
   "execution_count": 5,
   "id": "8fbe71e7",
   "metadata": {
    "code_folding": [
     0
    ]
   },
   "outputs": [],
   "source": [
    "class Model3(nn.Module):\n",
    "    \"\"\"Feedfoward neural network with 3 hidden layer\"\"\"\n",
    "    def __init__(self, in_size, hidden_size, out_size):\n",
    "        super().__init__()\n",
    "        # hidden layer\n",
    "        self.linear1 = nn.Linear(in_size, hidden_size)\n",
    "        # output layer\n",
    "        self.linear2 = nn.Linear(hidden_size, hidden_size)\n",
    "        self.linear3 = nn.Linear(hidden_size,hidden_size)\n",
    "        self.linear4 = nn.Linear(hidden_size, out_size)\n",
    "        \n",
    "    def forward(self, xb):\n",
    "        # Get intermediate outputs using hidden layer\n",
    "        out = self.linear1(xb)\n",
    "        # Apply activation function\n",
    "        tanhf = nn.Tanh()\n",
    "        out = tanhf(out)\n",
    "        # Get predictions using output layer\n",
    "        out = self.linear2(out)\n",
    "        out = tanhf(out)\n",
    "        out = self.linear3(out)\n",
    "        out = tanhf(out)\n",
    "        out = self.linear4(out)\n",
    "        # apply activation function again\n",
    "        out = torch.sigmoid(out)\n",
    "        return out"
   ]
  },
  {
   "cell_type": "code",
   "execution_count": 7,
   "id": "88c6e1f0",
   "metadata": {},
   "outputs": [
    {
     "data": {
      "text/plain": [
       "Model1(\n",
       "  (linear1): Linear(in_features=2, out_features=40, bias=True)\n",
       "  (linear2): Linear(in_features=40, out_features=1, bias=True)\n",
       ")"
      ]
     },
     "execution_count": 7,
     "metadata": {},
     "output_type": "execute_result"
    }
   ],
   "source": [
    "\n",
    "# model = torch.load('Duffiing_gamma0.5_beta10_PINN_EM.pt') \n",
    "model = torch.load('./data/Duffiing_gamma0.5_beta20_PINN_uniform.pt') \n",
    "model.eval()\n"
   ]
  },
  {
   "cell_type": "code",
   "execution_count": 8,
   "id": "cfbb0da7-477c-45ae-9c5e-a641de3df3ad",
   "metadata": {
    "code_folding": [
     0
    ]
   },
   "outputs": [],
   "source": [
    "def get_init_pt(circle_r):\n",
    "    # center of the circle (x, y)\n",
    "    circle_x = -1\n",
    "    circle_y = 0\n",
    "\n",
    "    # random angle\n",
    "    alpha = 2 * math.pi * np.random.random()\n",
    "    # random radius\n",
    "    r = circle_r * math.sqrt(np.random.random())\n",
    "    # calculating coordinates\n",
    "    x = r * math.cos(alpha) + circle_x\n",
    "    y = r * math.sin(alpha) + circle_y\n",
    "    \n",
    "    return torch.tensor([[x]]),torch.tensor([[y]])"
   ]
  },
  {
   "cell_type": "code",
   "execution_count": 9,
   "id": "776644f6",
   "metadata": {
    "code_folding": [
     0
    ]
   },
   "outputs": [],
   "source": [
    "def get_init_pt_weighted(r,t,q_circ):\n",
    "    # center of the circle (x, y)\n",
    "    circle_x = -1\n",
    "    circle_y = 0\n",
    "    alpha = choice(t, 1, p=q_circ.detach().numpy().squeeze())\n",
    "\n",
    "    # calculating coordinates\n",
    "    x = r * math.cos(alpha) + circle_x\n",
    "    y = r * math.sin(alpha) + circle_y\n",
    "    \n",
    "    return torch.tensor([[x]]),torch.tensor([[y]])"
   ]
  },
  {
   "cell_type": "code",
   "execution_count": 10,
   "id": "2dc9b5c0",
   "metadata": {
    "code_folding": [
     0,
     12
    ]
   },
   "outputs": [],
   "source": [
    "def get_init_pt_weighted_ellipse(t,rx,ry,q_circ):\n",
    "    # center of the circle (x, y)\n",
    "    circle_x = -1\n",
    "    circle_y = 0\n",
    "    alpha = choice(t, 1, p=q_circ.detach().numpy().squeeze())\n",
    "\n",
    "    # calculating coordinates\n",
    "    x = rx*math.cos(alpha)+circle_x\n",
    "    y = ry*math.sin(alpha)+ circle_y\n",
    "    \n",
    "    return torch.tensor([[x]]),torch.tensor([[y]])\n",
    "\n",
    "def get_init_pt_ellipse(t,rx,ry,q_circ):\n",
    "    # center of the circle (x, y)\n",
    "    circle_x = -1\n",
    "    circle_y = 0\n",
    "    alpha = 2 * math.pi * np.random.random()\n",
    "\n",
    "    # calculating coordinates\n",
    "    x = rx*math.cos(alpha)+circle_x\n",
    "    y = ry*math.sin(alpha)+ circle_y\n",
    "    \n",
    "    return torch.tensor([[x]]),torch.tensor([[y]])\n"
   ]
  },
  {
   "cell_type": "code",
   "execution_count": 11,
   "id": "79626f72-ae24-45d9-8cc9-548623e90d1b",
   "metadata": {
    "code_folding": [
     0,
     70
    ]
   },
   "outputs": [],
   "source": [
    "def running_traj(Time,M,beta,gamma,delt):\n",
    "    print(Time)\n",
    "    I = (Time+100)*torch.ones(M)\n",
    "    rsquare = torch.tensor([0.3]).pow(2)\n",
    "    rx = 0.3\n",
    "    ry = 0.4\n",
    "    t = np.linspace(0,2*np.pi, 200)\n",
    "    x_circ = -1 + rx*np.cos(t)\n",
    "    y_circ = 0 + ry*np.sin(t)\n",
    "    xy_circ = torch.vstack((torch.tensor(x_circ),torch.tensor(y_circ))).T\n",
    "    q_circ = model(xy_circ.float())\n",
    "    q_circ = q_circ/torch.sum(q_circ)\n",
    "    a = torch.tensor([-1,0])\n",
    "    b = torch.tensor([1,0])\n",
    "    for m in range(M):\n",
    "        x0, y0 = get_init_pt_weighted_ellipse(t,rx,ry,q_circ)\n",
    "        \n",
    "        print(m)\n",
    "        newX = x0\n",
    "        newY = y0\n",
    "\n",
    "        w = torch.randn(Time)\n",
    "        w = torch.sqrt(delt)*w\n",
    "        \n",
    "        X = torch.tensor([])\n",
    "        Y = torch.tensor([])\n",
    "        \n",
    "        X = torch.cat((X,x0), 0)\n",
    "        Y = torch.cat((Y,y0), 0)\n",
    "        \n",
    "        \n",
    "        inA = False\n",
    "        lastA = 0\n",
    "\n",
    "        for i in range(Time):\n",
    "\n",
    "            newR = torch.cat((newX, newY), 1)\n",
    "\n",
    "            newR.requires_grad_(True)\n",
    "\n",
    "            dUx = dU(newX)\n",
    "            Q = model(newR)\n",
    "            derivQ = torch.autograd.grad(Q,newR,allow_unused=True, retain_graph=True, \\\n",
    "                                    grad_outputs = torch.ones_like(Q), create_graph=True)[0]\n",
    "\n",
    "            dU_control_y = dU_control(beta,gamma,Q,derivQ)\n",
    "\n",
    "            newX = newX + newY * delt\n",
    "            newY = newY - (gamma*newY + dUx - dU_control_y)*delt + torch.sqrt(2*gamma/beta)*w[i]\n",
    "            \n",
    "            X = torch.cat((X,newX), 0)\n",
    "            Y = torch.cat((Y,newY), 0)\n",
    "            \n",
    "            distA = (newX - a[0]).pow(2)/(rx**2) + (newY - a[1]).pow(2)/(ry**2)\n",
    "            if distA <= 1.0:\n",
    "                inA = True\n",
    "            else:\n",
    "                if inA == True:\n",
    "                    lastA = i\n",
    "                inA = False\n",
    "            if inA == False:\n",
    "                distB = (newX - b[0]).pow(2)/(rx**2) + (newY - b[1]).pow(2)/(ry**2)\n",
    "                if distB <= 1.0:\n",
    "                    I[m] = i - lastA\n",
    "                    print('TAB: ', I[m])\n",
    "\n",
    "                    break\n",
    "            \n",
    "    return I\n",
    "            \n",
    "def mean_confidence_interval(data, confidence=0.95):\n",
    "    n = len(data)\n",
    "    m, se = np.mean(data), scipy.stats.sem(data)\n",
    "    h = se * scipy.stats.t.ppf((1 + confidence) / 2., n-1)\n",
    "    return m, m-h, m+h"
   ]
  },
  {
   "cell_type": "code",
   "execution_count": 12,
   "id": "bd55bcb2",
   "metadata": {},
   "outputs": [],
   "source": [
    "# betaT = torch.tensor(10)\n",
    "# delt = torch.tensor(0.005)\n",
    "# gamma = torch.tensor(0.5)\n",
    "# I = running_traj(20000,500,betaT,gamma,delt)"
   ]
  },
  {
   "cell_type": "code",
   "execution_count": 13,
   "id": "ab49e44e",
   "metadata": {},
   "outputs": [],
   "source": [
    "# torch.save(I,'I_beta10_250.pt')"
   ]
  },
  {
   "cell_type": "markdown",
   "id": "a7b8bb3b",
   "metadata": {},
   "source": [
    "# transition rate"
   ]
  },
  {
   "cell_type": "code",
   "execution_count": 14,
   "id": "ff402ffe",
   "metadata": {},
   "outputs": [],
   "source": [
    "# Original potential function\n",
    "class functions:\n",
    "    def __init__(self,beta,alpha):\n",
    "        self.beta = beta\n",
    "        self.alpha = alpha\n",
    "        \n",
    "    def funU(self,x):\n",
    "        U = 0.5*self.beta*(x**2) + 1/4*self.alpha*(x**4)\n",
    "\n",
    "        return U\n",
    "\n",
    "    def funT(self,p):\n",
    "        T = 0.5*(p**2)\n",
    "        return T\n",
    "\n",
    "    def dU(self,x):\n",
    "        dUx = x*(self.beta + self.alpha * (x**2))\n",
    "\n",
    "        return dUx\n",
    "    \n",
    "def Hamiltonian(x,y):\n",
    "    return 0.5*y**2 + 0.25*x**4 - 0.5*x**2\n",
    "def fpot(x):\n",
    "    return Hamiltonian(x[:,0],x[:,1])\n",
    "def divfree(x,y):\n",
    "    f1 = y\n",
    "    f2 = -x**3 + x\n",
    "    return f1,f2\n",
    "    "
   ]
  },
  {
   "cell_type": "code",
   "execution_count": 16,
   "id": "3952ffa8",
   "metadata": {},
   "outputs": [
    {
     "data": {
      "text/plain": [
       "Model1(\n",
       "  (linear1): Linear(in_features=2, out_features=40, bias=True)\n",
       "  (linear2): Linear(in_features=40, out_features=1, bias=True)\n",
       ")"
      ]
     },
     "execution_count": 16,
     "metadata": {},
     "output_type": "execute_result"
    }
   ],
   "source": [
    "model_10 = torch.load('./data/Duffiing_gamma0.5_beta10_PINN_EM.pt')\n",
    "model_10.eval()\n",
    "\n",
    "model_20 = torch.load('./data/Duffiing_gamma0.5_beta20_PINN_uniform.pt')\n",
    "model_20.eval()"
   ]
  },
  {
   "cell_type": "code",
   "execution_count": 17,
   "id": "2d90107a",
   "metadata": {},
   "outputs": [
    {
     "name": "stdout",
     "output_type": "stream",
     "text": [
      "BY NN and FEM functions: rho_A is [0.37091199],  rho_AB is [0.03969082],\n",
      "      escape rate is [0.01220015], transition rate is [0.00452518]\n"
     ]
    }
   ],
   "source": [
    "\"\"\"\n",
    "beta = 10\n",
    "\"\"\"\n",
    "beta = 10.0\n",
    "gamma = 0.5\n",
    "data_folder = Path('./Duffing_beta10')\n",
    "\n",
    "pts_file = data_folder/'Duffing_pts_ellip.csv'\n",
    "tri_file = data_folder/'Duffing_tri_ellip.csv'\n",
    "q_file = data_folder/'Duffing_committor_beta10_ellip.csv'\n",
    "qminus_file = data_folder/'Duffing_backward_committor_beta10_ellip.csv'\n",
    "Apts_file = data_folder/'Apts_ellip.csv'\n",
    "Bpts_file = data_folder/'Bpts_ellip.csv'\n",
    "Atri_file = data_folder/'Atri_ellip.csv'\n",
    "Btri_file = data_folder/'Btri_ellip.csv'\n",
    "\n",
    "\n",
    "data_pts = np.loadtxt(pts_file, delimiter=',', dtype=float)\n",
    "data_q = np.loadtxt(q_file, delimiter=',', dtype=float)\n",
    "data_qminus = np.loadtxt(qminus_file,delimiter=',', dtype=float)\n",
    "data_pts_minus = np.hstack((data_pts[:,0][:,None],-data_pts[:,1][:,None]))\n",
    "data_tri = np.loadtxt(tri_file, delimiter=',', dtype=int)\n",
    "# NO NEED TO CONVERT TO TORCH TENSOR\n",
    "A_pts = np.loadtxt(Apts_file, delimiter=',', dtype=float)\n",
    "B_pts = np.loadtxt(Bpts_file, delimiter=',', dtype=float)\n",
    "A_tri = np.loadtxt(Atri_file, delimiter=',', dtype=int)\n",
    "B_tri = np.loadtxt(Btri_file, delimiter=',', dtype=int)\n",
    "\n",
    "A_pts_tensor = torch.tensor(A_pts, dtype = torch.float32)\n",
    "B_pts_tensor = torch.tensor(B_pts, dtype = torch.float32)\n",
    "\n",
    "pts_beta10 = torch.tensor(data_pts,dtype = torch.float32)\n",
    "pts_beta10_minus = torch.tensor(data_pts_minus,dtype = torch.float32)\n",
    "q_fem_beta10 = torch.tensor(data_q[:,2],dtype = torch.float32)\n",
    "qminus_fem_beta10 = torch.tensor(data_qminus[:,2],dtype = torch.float32)\n",
    "\n",
    "pts_beta10.requires_grad_(True)\n",
    "Funs = functions(torch.tensor(-1),torch.tensor(1))\n",
    "Q = model_10(pts_beta10)\n",
    "Q_minus = torch.tensor(1) - model_10(pts_beta10_minus)\n",
    "\n",
    "beta_tensor = torch.tensor(10)\n",
    "U = Funs.funU(pts_beta10[:,0]) # potential energy function\n",
    "T = Funs.funT(pts_beta10[:,1]) # kinetic energy function\n",
    "\n",
    "Z_10 = invariant_pdf(data_pts,data_tri,A_pts,A_tri,B_pts,B_tri,fpot,beta)\n",
    "\n",
    "Rcurrent, Rrate_10 = reactive_current_transition_rate_Langevin(data_pts,data_tri,fpot,divfree,beta, 0.5\n",
    "                                                            ,Q.detach().numpy(),Q_minus.detach().numpy(),Z_10)\n",
    "\n",
    "rho_A_10 = probability_last_A_Langevin(data_pts,data_tri,A_pts,A_tri,fpot,beta,Q.detach().numpy(),Q_minus.detach().numpy(),Z_10)\n",
    "rho_AB_10 = probability_reactive_Langevin(data_pts,data_tri,fpot,beta,Q.detach().numpy(),Q_minus.detach().numpy(),Z_10)\n",
    "\n",
    "print(\"\"\"BY NN and FEM functions: rho_A is {},  rho_AB is {},\n",
    "      escape rate is {}, transition rate is {}\"\"\".format(rho_A_10, rho_AB_10,\\\n",
    "                                                          Rrate_10/rho_A_10, Rrate_10))\n",
    "\n"
   ]
  },
  {
   "cell_type": "code",
   "execution_count": 18,
   "id": "a24fcde3",
   "metadata": {
    "code_folding": []
   },
   "outputs": [
    {
     "name": "stdout",
     "output_type": "stream",
     "text": [
      "BY NN and FEM functions: rho_A is [0.28679121],  rho_AB is [0.00424755],\n",
      "      escape rate is [0.00164725], transition rate is [0.00047242]\n"
     ]
    }
   ],
   "source": [
    "# \"\"\"\n",
    "# beta = 20\n",
    "# \"\"\"\n",
    "beta = 20.0\n",
    "data_folder = Path('./Duffing_beta20')\n",
    "\n",
    "pts_file = data_folder/'Duffing_pts_ellip.csv'\n",
    "tri_file = data_folder/'Duffing_tri_ellip.csv'\n",
    "q_file = data_folder/'Duffing_committor_beta20_ellip.csv'\n",
    "qminus_file = data_folder/'Duffing_backward_committor_beta20_ellip.csv'\n",
    "Apts_file = data_folder/'Apts_ellip.csv'\n",
    "Bpts_file = data_folder/'Bpts_ellip.csv'\n",
    "Atri_file = data_folder/'Atri_ellip.csv'\n",
    "Btri_file = data_folder/'Btri_ellip.csv'\n",
    "\n",
    "data_pts = np.loadtxt(pts_file, delimiter=',', dtype=float)\n",
    "data_q = np.loadtxt(q_file, delimiter=',', dtype=float)\n",
    "data_qminus = np.loadtxt(qminus_file,delimiter=',', dtype=float)\n",
    "data_pts_minus = np.hstack((data_pts[:,0][:,None],-data_pts[:,1][:,None]))\n",
    "data_tri = np.loadtxt(tri_file, delimiter=',', dtype=int)\n",
    "# NO NEED TO CONVERT TO TORCH TENSOR\n",
    "A_pts = np.loadtxt(Apts_file, delimiter=',', dtype=float)\n",
    "B_pts = np.loadtxt(Bpts_file, delimiter=',', dtype=float)\n",
    "A_tri = np.loadtxt(Atri_file, delimiter=',', dtype=int)\n",
    "B_tri = np.loadtxt(Btri_file, delimiter=',', dtype=int)\n",
    "\n",
    "A_pts_tensor = torch.tensor(A_pts, dtype = torch.float32)\n",
    "B_pts_tensor = torch.tensor(B_pts, dtype = torch.float32)\n",
    "\n",
    "pts_beta20 = torch.tensor(data_pts,dtype = torch.float32)\n",
    "pts_beta20_minus = torch.tensor(data_pts_minus,dtype = torch.float32)\n",
    "q_fem_beta20 = torch.tensor(data_q[:,2],dtype = torch.float32)\n",
    "qminus_fem_beta20 = torch.tensor(data_qminus[:,2],dtype = torch.float32)\n",
    "\n",
    "pts_beta20.requires_grad_(True)\n",
    "Funs = functions(torch.tensor(-1),torch.tensor(1))\n",
    "Q = model_20(pts_beta20)\n",
    "Q_minus = torch.tensor(1) - model_20(pts_beta20_minus)\n",
    "\n",
    "U = Funs.funU(pts_beta20[:,0]) # potential energy function\n",
    "T = Funs.funT(pts_beta20[:,1]) # kinetic energy function\n",
    "\n",
    "Z_20 = invariant_pdf(data_pts,data_tri,A_pts,A_tri,B_pts,B_tri,fpot,beta)\n",
    "\n",
    "Rcurrent, Rrate_20 = reactive_current_transition_rate_Langevin(data_pts,data_tri,fpot,divfree,beta, 0.5\n",
    "                                                            ,Q.detach().numpy(),Q_minus.detach().numpy(),Z_20)\n",
    "\n",
    "rho_A_20 = probability_last_A_Langevin(data_pts,data_tri,A_pts,A_tri,fpot,beta,Q.detach().numpy(),Q_minus.detach().numpy(),Z_20)\n",
    "rho_AB_20 = probability_reactive_Langevin(data_pts,data_tri,fpot,beta,Q.detach().numpy(),Q_minus.detach().numpy(),Z_20)\n",
    "\n",
    "print(\"\"\"BY NN and FEM functions: rho_A is {},  rho_AB is {},\n",
    "      escape rate is {}, transition rate is {}\"\"\".format(rho_A_20, rho_AB_20,\\\n",
    "                                                          Rrate_20/rho_A_20, Rrate_20))\n"
   ]
  },
  {
   "cell_type": "markdown",
   "id": "b293064a",
   "metadata": {},
   "source": [
    "# Calculate mean escape time from A using results by optimal control & NN"
   ]
  },
  {
   "cell_type": "markdown",
   "id": "dfc9599a",
   "metadata": {},
   "source": [
    "Case for beta = 10"
   ]
  },
  {
   "cell_type": "code",
   "execution_count": 21,
   "id": "79a3ad0c",
   "metadata": {},
   "outputs": [
    {
     "name": "stdout",
     "output_type": "stream",
     "text": [
      "E_tau_AB: 6.880499839782715\n"
     ]
    }
   ],
   "source": [
    "I = torch.load('./data/I_beta10_250_ellip.pt')\n",
    "delt = torch.tensor(0.005)\n",
    "# with open('I_duffing_controlled_beta1','rb') as f:\n",
    "#     I = pickle.load(f)\n",
    "average_time_steps, left, right = mean_confidence_interval(I.detach().numpy())\n",
    "average_time = average_time_steps*delt.detach().numpy()\n",
    "estimated_rate = 1/average_time\n",
    "print('E_tau_AB: {}'.format(average_time))"
   ]
  },
  {
   "cell_type": "code",
   "execution_count": 22,
   "id": "57b1045e",
   "metadata": {},
   "outputs": [
    {
     "name": "stdout",
     "output_type": "stream",
     "text": [
      "escape rate for beta = 10 is: [0.01555246]\n",
      "transition rate for beta = 10 is: [0.0057686]\n",
      "confidence interval transition rate for beta = 10 is: [[0.00549516],[0.00607067]]\n"
     ]
    }
   ],
   "source": [
    "# average_time = 6.77\n",
    "escape_rate_10 = 1/(average_time*(rho_A_10/rho_AB_10))\n",
    "print('escape rate for beta = 10 is: {}'.format(escape_rate_10))\n",
    "transition_rate_10 = rho_AB_10/average_time\n",
    "print('transition rate for beta = 10 is: {}'.format(transition_rate_10))\n",
    "conf_left = rho_AB_10/(right*delt.detach().numpy())\n",
    "conf_right = rho_AB_10/(left*delt.detach().numpy())\n",
    "print('confidence interval transition rate for beta = 10 is: [{},{}]'.format(conf_left,conf_right))"
   ]
  },
  {
   "cell_type": "code",
   "execution_count": 23,
   "id": "e0023a3a",
   "metadata": {},
   "outputs": [
    {
     "name": "stdout",
     "output_type": "stream",
     "text": [
      "tensor(-0.3424)\n",
      "tensor(0.3424)\n"
     ]
    }
   ],
   "source": [
    "print(left*delt - average_time_steps*delt)\n",
    "print(right*delt - average_time_steps*delt)"
   ]
  },
  {
   "cell_type": "markdown",
   "id": "277fbf1c",
   "metadata": {},
   "source": [
    "beta = 20"
   ]
  },
  {
   "cell_type": "code",
   "execution_count": 24,
   "id": "7deaf331",
   "metadata": {},
   "outputs": [
    {
     "name": "stdout",
     "output_type": "stream",
     "text": [
      "E_tau_AB: 7.33843994140625\n"
     ]
    }
   ],
   "source": [
    "I = torch.load('./data/I_beta20_250_ellipse.pt')\n",
    "delt = torch.tensor(0.005)\n",
    "average_time_steps, left, right = mean_confidence_interval(I.detach().numpy())\n",
    "average_time = average_time_steps*delt.detach().numpy()\n",
    "estimated_rate = 1/average_time\n",
    "print('E_tau_AB: {}'.format(average_time))"
   ]
  },
  {
   "cell_type": "code",
   "execution_count": 25,
   "id": "26147375",
   "metadata": {},
   "outputs": [
    {
     "name": "stdout",
     "output_type": "stream",
     "text": [
      "escape rate for beta = 1 is: [0.00201822]\n",
      "transition rate for beta = 1 is: [0.00057881]\n",
      "confidence interval transition rate for beta = 1 is: [[0.00055362],[0.0006064]]\n"
     ]
    }
   ],
   "source": [
    "escape_rate_20 = 1/(average_time*(rho_A_20/rho_AB_20))\n",
    "print('escape rate for beta = 1 is: {}'.format(escape_rate_20))\n",
    "transition_rate_20 = rho_AB_20/average_time\n",
    "print('transition rate for beta = 1 is: {}'.format(transition_rate_20))\n",
    "conf_left = rho_AB_20/(right*delt.detach().numpy())\n",
    "conf_right = rho_AB_20/(left*delt.detach().numpy())\n",
    "print('confidence interval transition rate for beta = 1 is: [{},{}]'.format(conf_left,conf_right))"
   ]
  },
  {
   "cell_type": "markdown",
   "id": "9d92ac9d",
   "metadata": {},
   "source": [
    "# plot trajectories"
   ]
  },
  {
   "cell_type": "code",
   "execution_count": 31,
   "id": "d0de471c",
   "metadata": {
    "code_folding": []
   },
   "outputs": [],
   "source": [
    "def plot_traj(Time,M,beta,gamma,delt):\n",
    "    print(Time)\n",
    "    I = (Time+100)*torch.ones(M)\n",
    "    rsquare = torch.tensor([0.3]).pow(2)\n",
    "    rx = 0.3\n",
    "    ry = 0.4\n",
    "    t = np.linspace(0,2*np.pi, 200)\n",
    "    x_circ = -1 + rx*np.cos(t)\n",
    "    y_circ = 0 + ry*np.sin(t)\n",
    "    xy_circ = torch.vstack((torch.tensor(x_circ),torch.tensor(y_circ))).T\n",
    "    q_circ = model_20(xy_circ.float())\n",
    "    q_circ = q_circ/torch.sum(q_circ)\n",
    "    \n",
    "    a = torch.tensor([-1,0])\n",
    "    b = torch.tensor([1,0])\n",
    "    \n",
    "    for m in range(M):\n",
    "#         x0,y0 = get_init_pt_weighted(0.3,t,q_circ)\n",
    "        x0, y0 = get_init_pt_weighted_ellipse(t,rx,ry,q_circ)\n",
    "        \n",
    "        print(m)\n",
    "        newX = x0\n",
    "        newY = y0\n",
    "        newX_orig = x0\n",
    "        newY_orig = y0\n",
    "\n",
    "        w = torch.randn(Time)\n",
    "        w = torch.sqrt(delt)*w\n",
    "        \n",
    "        X = torch.tensor([])\n",
    "        Y = torch.tensor([])\n",
    "        \n",
    "        X = torch.cat((X,x0), 0)\n",
    "        Y = torch.cat((Y,y0), 0)\n",
    "        \n",
    "        X_orig = torch.tensor([])\n",
    "        Y_orig = torch.tensor([])\n",
    "        \n",
    "        X_orig = torch.cat((X_orig,x0), 0)\n",
    "        Y_orig = torch.cat((Y_orig,y0), 0)\n",
    "        \n",
    "        \n",
    "        flag = 0\n",
    "\n",
    "        for i in range(Time):\n",
    "\n",
    "            b = torch.tensor([1,0])\n",
    "\n",
    "            newR = torch.cat((newX, newY), 1)\n",
    "\n",
    "            newR.requires_grad_(True)\n",
    "\n",
    "            dUx = dU(newX)\n",
    "            Q = model(newR)\n",
    "            derivQ = torch.autograd.grad(Q,newR,allow_unused=True, retain_graph=True, \\\n",
    "                                    grad_outputs = torch.ones_like(Q), create_graph=True)[0]\n",
    "\n",
    "            dU_control_y = dU_control(beta,gamma,Q,derivQ)\n",
    "\n",
    "            newX = newX + newY * delt\n",
    "            newY = newY - (gamma*newY + dUx - dU_control_y)*delt + torch.sqrt(2*gamma/beta)*w[i]\n",
    "            \n",
    "            X = torch.cat((X,newX), 0)\n",
    "            Y = torch.cat((Y,newY), 0)\n",
    "            \n",
    "            dUx_orig = dU(newX_orig)\n",
    "            \n",
    "            newX_orig = newX_orig + newY_orig * delt\n",
    "            newY_orig = newY_orig - (gamma*newY_orig + dUx_orig)*delt + torch.sqrt(2*gamma/beta)*w[i]\n",
    "            \n",
    "            X_orig = torch.cat((X_orig,newX_orig), 0)\n",
    "            Y_orig = torch.cat((Y_orig,newY_orig), 0)\n",
    "            \n",
    "            if flag == 0:\n",
    "                distB = (newX - b[0]).pow(2) + (newY - b[1]).pow(2)\n",
    "                if distB < rsquare:\n",
    "                    flag = 1\n",
    "#                     print('we break rb = 0.3 at: ', i)\n",
    "            if flag == 1:\n",
    "                distB = (newX - b[0]).pow(2) + (newY - b[1]).pow(2)\n",
    "                if distB < torch.tensor([0.15]).pow(2):\n",
    "                    flag = 2\n",
    "#                     print('we break rb = 0.15 at: ', i)\n",
    "            \n",
    "        if m == 0:\n",
    "            plt.figure(1)\n",
    "            plt.scatter(X.detach().numpy(),Y.detach().numpy(),color = 'b', s = 1,label = 'trajectory 1')\n",
    "            plt.figure(2)\n",
    "            plt.scatter(X_orig.detach().numpy(),Y_orig.detach().numpy(),color = 'b', s = 1,label = 'trajectory 1')\n",
    "        if m == 1:\n",
    "            plt.figure(1)\n",
    "            plt.scatter(X.detach().numpy(),Y.detach().numpy(),color = 'g', s = 1,label = 'trajectory 2')\n",
    "            plt.figure(2)\n",
    "            plt.scatter(X_orig.detach().numpy(),Y_orig.detach().numpy(),color = 'g', s = 1,label = 'trajectory 2')\n",
    "        if m == 2:\n",
    "            plt.figure(1)\n",
    "            plt.scatter(X.detach().numpy(),Y.detach().numpy(),color = 'orange', s = 1,label = 'trajectory 3')\n",
    "            plt.figure(2)\n",
    "            plt.scatter(X_orig.detach().numpy(),Y_orig.detach().numpy(),color = 'orange', s = 1,label = 'trajectory 3')\n",
    "    \n",
    "    t = np.linspace(0,2*np.pi,200)\n",
    "    plt.figure(1)\n",
    "    plt.scatter(a[0],a[1])\n",
    "    plt.scatter(b[0],b[1])\n",
    "    Rx = 0.3\n",
    "    Ry = 0.4\n",
    "    a = [-1,0]\n",
    "    b = [1,0]\n",
    "    plt.plot(Rx*np.cos(t)+a[0],Ry*np.sin(t)+a[1])\n",
    "    plt.plot(Rx*np.cos(t)+b[0],Ry*np.sin(t)+b[1])\n",
    "    plt.xlim([-2,2])\n",
    "    plt.ylim([-2,2])\n",
    "    plt.legend()\n",
    "    plt.xlabel('$x$')\n",
    "    plt.ylabel('$p$')\n",
    "    plt.rcParams[\"figure.figsize\"] = (5,5)\n",
    "    plt.savefig('./data/controlled_duffing_beta20_ellip.pdf')\n",
    "    \n",
    "    plt.figure(2)\n",
    "    plt.scatter(a[0],a[1])\n",
    "    plt.scatter(b[0],b[1])\n",
    "    \n",
    "    Rx = 0.3\n",
    "    Ry = 0.4\n",
    "    a = [-1,0]\n",
    "    b = [1,0]\n",
    "    plt.plot(Rx*np.cos(t)+a[0],Ry*np.sin(t)+a[1])\n",
    "    plt.plot(Rx*np.cos(t)+b[0],Ry*np.sin(t)+b[1])\n",
    "    \n",
    "    plt.xlim([-2,2])\n",
    "    plt.ylim([-2,2])\n",
    "    plt.legend()\n",
    "    plt.xlabel('$x$')\n",
    "    plt.ylabel('$p$')\n",
    "    plt.rcParams[\"figure.figsize\"] = (5,5)\n",
    "    plt.savefig('./data/uncontrolled_duffing_beta20_ellip.pdf')\n",
    "    \n",
    "    return I\n",
    "                \n"
   ]
  },
  {
   "cell_type": "code",
   "execution_count": 34,
   "id": "e80ef158",
   "metadata": {},
   "outputs": [],
   "source": [
    "# beta = torch.tensor(20)\n",
    "# delt = torch.tensor(0.005)\n",
    "# gamma = torch.tensor(0.5)\n",
    "# I = plot_traj(5000,3,beta,gamma,delt)"
   ]
  },
  {
   "cell_type": "code",
   "execution_count": null,
   "id": "48713445",
   "metadata": {},
   "outputs": [],
   "source": []
  },
  {
   "cell_type": "code",
   "execution_count": null,
   "id": "0073a0f3",
   "metadata": {},
   "outputs": [],
   "source": []
  }
 ],
 "metadata": {
  "kernelspec": {
   "display_name": "Python 3 (ipykernel)",
   "language": "python",
   "name": "python3"
  },
  "language_info": {
   "codemirror_mode": {
    "name": "ipython",
    "version": 3
   },
   "file_extension": ".py",
   "mimetype": "text/x-python",
   "name": "python",
   "nbconvert_exporter": "python",
   "pygments_lexer": "ipython3",
   "version": "3.9.7"
  }
 },
 "nbformat": 4,
 "nbformat_minor": 5
}
