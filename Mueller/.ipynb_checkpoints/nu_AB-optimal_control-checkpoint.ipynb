{
 "cells": [
  {
   "cell_type": "code",
   "execution_count": 1,
   "id": "ee60a3fd-56fb-4cc0-a408-a2a6b9c9522f",
   "metadata": {
    "code_folding": []
   },
   "outputs": [],
   "source": [
    "import numpy as np\n",
    "import torch\n",
    "from torch.autograd import Variable\n",
    "import torch.nn as nn\n",
    "import matplotlib.pyplot as plt\n",
    "import math\n",
    "import scipy.stats\n",
    "pitorch = torch.Tensor([math.pi])\n",
    "import pickle\n",
    "import pandas as pd\n",
    "from pathlib import Path\n",
    "from distmesh import *\n",
    "from FEM_TPT import *\n",
    "import controlled_traj, utils, rates\n",
    "from utils import Ruggedmueller2"
   ]
  },
  {
   "cell_type": "code",
   "execution_count": 2,
   "id": "e94c7008",
   "metadata": {},
   "outputs": [],
   "source": [
    "# run trajectories\n",
    "model_10 = torch.load('./data/d-net_T10_2hidden40.pt')\n",
    "model_10.eval()\n",
    "beta = torch.tensor(1/10)\n",
    "delt = torch.tensor(1e-5)\n",
    "torch.manual_seed(100)\n",
    "M = 250\n",
    "cap_length = 200000\n",
    "# I = controlled_traj.running_traj(cap_length,M,beta,delt,model_10)"
   ]
  },
  {
   "cell_type": "code",
   "execution_count": 3,
   "id": "2a3ade04",
   "metadata": {},
   "outputs": [],
   "source": [
    "# np.save('I_250_controlled_T10.npy', I)"
   ]
  },
  {
   "cell_type": "code",
   "execution_count": 75,
   "id": "f81c6999",
   "metadata": {},
   "outputs": [],
   "source": [
    "data_type = 'T_accel'\n",
    "beta_p = 1/20"
   ]
  },
  {
   "cell_type": "code",
   "execution_count": 76,
   "id": "4d5c280b",
   "metadata": {},
   "outputs": [],
   "source": [
    "if data_type == 'uniform':\n",
    "    x = np.linspace(-1.5,1.2,400)\n",
    "    y = np.linspace(-0.5,2,400)\n",
    "    x_train, y_train = np.meshgrid(x,y)\n",
    "    test_pts = torch.tensor(np.hstack((x_train.ravel()[:,None],y_train.ravel()[:,None])),\\\n",
    "                         dtype = torch.float32)\n",
    "\n",
    "    rho_AB_NN, nu_AB_NN = rates.rates_uniformpts(test_pts, model_10, beta.item())\n",
    "elif data_type == 'train_data':\n",
    "    df = pd.read_excel('./data/traindata_meta_delta-net_T10.xlsx')\n",
    "\n",
    "    X_train = pd.DataFrame(df['X'])\n",
    "    Y_train = pd.DataFrame(df['Y'])\n",
    "\n",
    "    X_train = torch.tensor(X_train.values,dtype=torch.float32)\n",
    "    Y_train = torch.tensor(Y_train.values,dtype=torch.float32)\n",
    "\n",
    "    test_pts = torch.cat((X_train, Y_train), 1)\n",
    "    rho_AB_NN, nu_AB_NN = rates.rates_uniformpts(test_pts, model_10, beta.item())\n",
    "elif data_type == 'T_accel':\n",
    "    test_pts = torch.empty((1,2), dtype=torch.float32)\n",
    "    for iter_ in range(0,10):\n",
    "        pts = torch.load('./data/mueller_test_rho_T20_iter'+str(iter_)+'.pt')\n",
    "        test_pts = torch.cat((test_pts, pts), axis = 0)\n",
    "    test_pts = test_pts[1:,:]\n",
    "    test_pts = test_pts.type(torch.float32)\n",
    "    rho_AB_NN, nu_AB_NN = rates.rates_NNpts(test_pts, model_10, beta_p, beta.item()) \n",
    "\n",
    "    "
   ]
  },
  {
   "cell_type": "code",
   "execution_count": 72,
   "id": "6ec4d11e",
   "metadata": {},
   "outputs": [],
   "source": [
    "plt.scatter(test_pts[:,0].detach().numpy(), test_pts[:,1].detach().numpy(),s = 0.2)\n"
   ]
  },
  {
   "cell_type": "code",
   "execution_count": 73,
   "id": "bf446a53",
   "metadata": {},
   "outputs": [
    {
     "name": "stdout",
     "output_type": "stream",
     "text": [
      "E_tau_AB: 0.05053 with plus/minus 0.004181064237374367\n",
      "rho_AB using NN on temperature accelerated pts: 0.0003548\n",
      "transition rate for beta = 5 with TPT is 0.007704\n",
      "transition rate for beta = 5 with simulations is 0.007022\n",
      "confidence interval for transition rate is: [0.006485,0.007655]\n"
     ]
    }
   ],
   "source": [
    "# read file from sampled controlled trajectories\n",
    "I = np.load('./data/I_250_controlled_T10.npy')\n",
    "E_tau, E_tau_var, nu_AB_siml, lower, upper = rates.transition_rate_sample(1e-5,I,rho_AB_NN)\n",
    "\n",
    "print('E_tau_AB: {:.4} with plus/minus {}'.format(E_tau, E_tau_var))\n",
    "print('rho_AB using NN on {} pts: {:.4}'.format(data_type, rho_AB_NN))\n",
    "print('transition rate for beta = 5 with TPT is {:.4}'.format(nu_AB_NN))\n",
    "print('transition rate for beta = 5 with simulations is {:.4}'.format(nu_AB_siml))\n",
    "print('confidence interval for transition rate is: [{:.4},{:.4}]'.format(lower, upper))"
   ]
  },
  {
   "cell_type": "markdown",
   "id": "81ac41f9",
   "metadata": {},
   "source": [
    "# Sampled path graph"
   ]
  },
  {
   "cell_type": "code",
   "execution_count": 6,
   "id": "d06983ae",
   "metadata": {},
   "outputs": [],
   "source": [
    "# beta = torch.tensor(1/10)\n",
    "# delt = torch.tensor(1e-5)\n",
    "# torch.manual_seed(1998)\n",
    "# X,Y,X_orig,Y_orig = controlled_traj.plot_traj(5000,3,beta,delt, model_10)\n"
   ]
  },
  {
   "cell_type": "code",
   "execution_count": null,
   "id": "ffdebed0",
   "metadata": {},
   "outputs": [],
   "source": []
  }
 ],
 "metadata": {
  "kernelspec": {
   "display_name": "Python 3 (ipykernel)",
   "language": "python",
   "name": "python3"
  },
  "language_info": {
   "codemirror_mode": {
    "name": "ipython",
    "version": 3
   },
   "file_extension": ".py",
   "mimetype": "text/x-python",
   "name": "python",
   "nbconvert_exporter": "python",
   "pygments_lexer": "ipython3",
   "version": "3.9.7"
  }
 },
 "nbformat": 4,
 "nbformat_minor": 5
}
