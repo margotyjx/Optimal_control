{
 "cells": [
  {
   "cell_type": "code",
   "execution_count": 1,
   "id": "b4c31f78",
   "metadata": {},
   "outputs": [],
   "source": [
    "import numpy as np\n",
    "import torch\n",
    "from torch.autograd import Variable\n",
    "import torch.nn as nn\n",
    "import pandas as pd\n",
    "import matplotlib\n",
    "import controlled_traj, utils, rates\n",
    "from utils import Ruggedmueller2\n",
    "\n",
    "import math\n",
    "pitorch = torch.Tensor([math.pi])"
   ]
  },
  {
   "cell_type": "code",
   "execution_count": 2,
   "id": "a36ea5db",
   "metadata": {},
   "outputs": [],
   "source": [
    "FD_file = pd.read_excel('./data/test_data_T10.xlsx')\n",
    "\n",
    "test_x = pd.DataFrame(FD_file['X'])\n",
    "test_y = pd.DataFrame(FD_file['Y'])\n",
    "target = pd.DataFrame(FD_file['committor'])\n",
    "target_np = np.array(target.values)\n",
    "\n",
    "X_10 = torch.tensor(test_x.values,dtype=torch.float32)\n",
    "Y_10 = torch.tensor(test_y.values,dtype=torch.float32)\n",
    "Q_fem_10 = torch.tensor(target.values,dtype = torch.float32)\n",
    "\n",
    "test_data_10 = torch.cat((X_10,Y_10), 1)\n",
    "test_data_10.requires_grad = (True)"
   ]
  },
  {
   "cell_type": "code",
   "execution_count": 3,
   "id": "a00b170a",
   "metadata": {},
   "outputs": [],
   "source": [
    "# calculate the normalization number\n",
    "U_10 = utils.funU(test_data_10[:,0],test_data_10[:,1])\n",
    "Z_10 = torch.sum(Q_fem_10*(1-Q_fem_10)*torch.exp(-(1/10)*U_10)[:,None])\n",
    "mR_10 = Q_fem_10*(1-Q_fem_10)*torch.exp(-(1/10)*U_10)[:,None]/Z_10"
   ]
  },
  {
   "cell_type": "code",
   "execution_count": 4,
   "id": "2c7d0112",
   "metadata": {},
   "outputs": [],
   "source": [
    "model_d_net_T10 = torch.load('./data/d-net_T10_2hidden40.pt')\n",
    "model_d_net_T10.eval()\n",
    "\n",
    "df = pd.read_excel('./data/traindata_meta_delta-net_T10.xlsx')\n",
    "\n",
    "X_train = pd.DataFrame(df['X'])\n",
    "Y_train = pd.DataFrame(df['Y'])\n",
    "\n",
    "X_train = torch.tensor(X_train.values,dtype=torch.float32)\n",
    "Y_train = torch.tensor(Y_train.values,dtype=torch.float32)\n",
    "\n",
    "train_data = torch.cat((X_train, Y_train), 1)"
   ]
  },
  {
   "cell_type": "code",
   "execution_count": 5,
   "id": "ef9c8b9a",
   "metadata": {},
   "outputs": [
    {
     "ename": "NameError",
     "evalue": "name 'model_d_net_T10_1' is not defined",
     "output_type": "error",
     "traceback": [
      "\u001b[0;31m---------------------------------------------------------------------------\u001b[0m",
      "\u001b[0;31mNameError\u001b[0m                                 Traceback (most recent call last)",
      "\u001b[0;32m/var/folders/tj/20hjj3p93ls3rkc91pc6nmb40000gn/T/ipykernel_66469/840091653.py\u001b[0m in \u001b[0;36m<module>\u001b[0;34m\u001b[0m\n\u001b[1;32m      3\u001b[0m \u001b[0mchia_t_train\u001b[0m\u001b[0;34m,\u001b[0m \u001b[0mchib_t_train\u001b[0m \u001b[0;34m=\u001b[0m \u001b[0mutils\u001b[0m\u001b[0;34m.\u001b[0m\u001b[0mchiAB\u001b[0m\u001b[0;34m(\u001b[0m\u001b[0mtrain_data\u001b[0m\u001b[0;34m)\u001b[0m\u001b[0;34m\u001b[0m\u001b[0;34m\u001b[0m\u001b[0m\n\u001b[1;32m      4\u001b[0m \u001b[0;34m\u001b[0m\u001b[0m\n\u001b[0;32m----> 5\u001b[0;31m \u001b[0mq_tilde_T10_dnet\u001b[0m \u001b[0;34m=\u001b[0m \u001b[0mmodel_d_net_T10_1\u001b[0m\u001b[0;34m(\u001b[0m\u001b[0mtest_data_10\u001b[0m\u001b[0;34m)\u001b[0m\u001b[0;34m\u001b[0m\u001b[0;34m\u001b[0m\u001b[0m\n\u001b[0m\u001b[1;32m      6\u001b[0m \u001b[0mQ_T10_dnet\u001b[0m \u001b[0;34m=\u001b[0m \u001b[0mutils\u001b[0m\u001b[0;34m.\u001b[0m\u001b[0mq_theta\u001b[0m\u001b[0;34m(\u001b[0m\u001b[0mtest_data_10\u001b[0m\u001b[0;34m,\u001b[0m\u001b[0mchia_t\u001b[0m\u001b[0;34m,\u001b[0m\u001b[0mchib_t\u001b[0m\u001b[0;34m,\u001b[0m\u001b[0mq_tilde_T10_dnet\u001b[0m\u001b[0;34m)\u001b[0m\u001b[0;34m\u001b[0m\u001b[0;34m\u001b[0m\u001b[0m\n\u001b[1;32m      7\u001b[0m \u001b[0;34m\u001b[0m\u001b[0m\n",
      "\u001b[0;31mNameError\u001b[0m: name 'model_d_net_T10_1' is not defined"
     ]
    }
   ],
   "source": [
    "# Temperature 10\n",
    "chia_t,chib_t = utils.chiAB(test_data_10)\n",
    "chia_t_train, chib_t_train = utils.chiAB(train_data)\n",
    "\n",
    "q_tilde_T10_dnet = model_d_net_T10(test_data_10)\n",
    "Q_T10_dnet = utils.q_theta(test_data_10,chia_t,chib_t,q_tilde_T10_dnet)\n",
    "\n",
    "q_tilde_T10_dnet_train = model_d_net_T10(train_data)\n",
    "Q_T10_dnet_train = utils.q_theta(train_data,chia_t_train,chib_t_train,q_tilde_T10_dnet_train)\n",
    "\n",
    "diff_10_dnet = torch.abs(Q_fem_10 - Q_T10_dnet)\n",
    "MAE_10_dnet = torch.sum(mR_10*diff_10_dnet)\n",
    "RMSE_10_dnet = torch.sqrt(torch.sum(mR_10*diff_10_dnet.pow(2)))\n",
    "print('The wMAE of uniform in space when T = 10 is {:.5}, and wRMSE is {:.5}'.format(MAE_10_dnet,RMSE_10_dnet))\n",
    "\n",
    "import matplotlib.pyplot as plt\n",
    "\n",
    "x = np.linspace(-1.5,1,1000)\n",
    "y = np.linspace(-1.5,2.5,1000)\n",
    "xx,yy = np.meshgrid(x,y)\n",
    "A = funU(torch.tensor(xx),torch.tensor(yy))\n",
    "\n",
    "plt.contour(xx,yy,A.detach().numpy(),colors='white',levels = np.arange(-200,100,20), linewidths = 1.5)\n",
    "\n",
    "plt.scatter(test_data_10[:,0].detach().numpy(),test_data_10[:,1].detach().numpy(),\\\n",
    "            c = Q_fem_10.detach().numpy())\n",
    "plt.colorbar()\n",
    "plt.xlabel('$x_1$')\n",
    "plt.ylabel('$x_2$')\n",
    "ax = plt.gca()\n",
    "# plt.axis('equal')\n",
    "plt.xlim([-1.5,1])\n",
    "plt.ylim([-0.5,2])\n",
    "ax.set_aspect(1)\n",
    "# plt.savefig('MuellerFEMcomm10.pdf')\n",
    "plt.show()\n"
   ]
  },
  {
   "cell_type": "code",
   "execution_count": null,
   "id": "7e3176ec",
   "metadata": {},
   "outputs": [],
   "source": [
    "plt.contour(xx,yy,A.detach().numpy(),colors='white',levels = np.arange(-200,100,20),linewidths = 1.5)\n",
    "\n",
    "plt.scatter(X_train.detach().numpy(),Y_train.detach().numpy(),\\\n",
    "            c = Q_T10_dnet_train.detach().numpy(),s = 2)\n",
    "plt.colorbar()\n",
    "plt.xlabel('$x_1$')\n",
    "plt.ylabel('$x_2$')\n",
    "# plt.axis('equal')\n",
    "# matplotlib.axes.Axes.set_xlim([-1.5, 1])\n",
    "ax = plt.gca()\n",
    "ax.set_xlim([-1.5, 1])\n",
    "ax.set_ylim([-0.5, 2])\n",
    "ax.set_aspect(1)\n",
    "# plt.xlim([-1.5,1])\n",
    "# plt.ylim([-0.5,2])\n",
    "# plt.savefig('MuellerNNcomm10.pdf')\n",
    "plt.show()"
   ]
  },
  {
   "cell_type": "code",
   "execution_count": null,
   "id": "e810011c",
   "metadata": {},
   "outputs": [],
   "source": []
  }
 ],
 "metadata": {
  "kernelspec": {
   "display_name": "Python 3 (ipykernel)",
   "language": "python",
   "name": "python3"
  },
  "language_info": {
   "codemirror_mode": {
    "name": "ipython",
    "version": 3
   },
   "file_extension": ".py",
   "mimetype": "text/x-python",
   "name": "python",
   "nbconvert_exporter": "python",
   "pygments_lexer": "ipython3",
   "version": "3.9.7"
  }
 },
 "nbformat": 4,
 "nbformat_minor": 5
}
