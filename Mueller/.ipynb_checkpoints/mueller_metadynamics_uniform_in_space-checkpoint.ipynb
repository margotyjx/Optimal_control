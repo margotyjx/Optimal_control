{
 "cells": [
  {
   "cell_type": "code",
   "execution_count": 1,
   "id": "ad80548e-c6b4-418b-9d7c-1fd972da03fa",
   "metadata": {
    "tags": []
   },
   "outputs": [],
   "source": [
    "import numpy as np\n",
    "import torch\n",
    "from torch.autograd import Variable\n",
    "import torch.nn as nn\n",
    "import torch.nn.functional as F\n",
    "import matplotlib.pyplot as plt\n",
    "import torch\n",
    "import torch.onnx as onnx\n",
    "from torch.utils.data import TensorDataset\n",
    "from torch.utils.data import DataLoader\n",
    "import torch.optim as optim\n",
    "\n",
    "import math\n",
    "pitorch = torch.Tensor([math.pi])\n",
    "\n",
    "delt = torch.tensor(1e-5) #step size\n",
    "Nt = int(1/delt)"
   ]
  },
  {
   "cell_type": "markdown",
   "id": "5f5670cb-a40b-4d9f-9d13-a1f1e9d0b263",
   "metadata": {},
   "source": [
    "## useful functions"
   ]
  },
  {
   "cell_type": "code",
   "execution_count": 2,
   "id": "bcff1e26-b03d-4bfe-81b2-3c3b75bf1ec6",
   "metadata": {
    "tags": []
   },
   "outputs": [],
   "source": [
    "def dU(x,y):\n",
    "    a = torch.tensor([-1,-1,-6.5,0.7])\n",
    "    b = torch.tensor([0,0,11,0.6])\n",
    "    c = torch.tensor([-10,-10,-6.5,0.7])\n",
    "    D = torch.tensor([-200,-100,-170,15])\n",
    "    X = torch.tensor([1,0,-0.5,-1])\n",
    "    Y = torch.tensor([0,0.5,1.5,1])\n",
    "    gamma = torch.tensor([9])\n",
    "    k = torch.tensor([5])\n",
    "  \n",
    "    fx1 = D[0]*torch.exp(a[0]*((x-X[0]).pow(2)) + b[0]*(x-X[0])*(y-Y[0]) + c[0]*(y.pow(2)))\n",
    "    fx2 = D[1]*torch.exp(a[1]*((x-X[1]).pow(2)) + b[1]*(x-X[1])*(y-Y[1]) + c[1]*((y-Y[1]).pow(2)))\n",
    "    fx3 = D[2]*torch.exp(a[2]*((x-X[2]).pow(2)) + b[2]*(x-X[2])*(y-Y[2]) + c[2]*((y-Y[2]).pow(2)))\n",
    "    fx4 = D[3]*torch.exp(a[3]*((x-X[3]).pow(2)) + b[3]*(x-X[3])*(y-Y[3]) + c[3]*((y-Y[3]).pow(2)))\n",
    "    extra = gamma*torch.sin(2*k*pitorch*x)*torch.sin(2*k*pitorch*y)\n",
    "    \n",
    "    extrapx = gamma*torch.cos(2*k*pitorch*x)*torch.sin(2*k*pitorch*y)*2*pitorch*k\n",
    "    extrapy = gamma*torch.cos(2*k*pitorch*y)*torch.sin(2*k*pitorch*x)*2*pitorch*k\n",
    "    \n",
    "    dUx = fx1*(2*a[0]*(x-X[0])+b[0]*(y-Y[0])) + fx2*(2*a[1]*(x-X[1])+b[1]*(y-Y[1])) + fx3*(2*a[2]*(x-X[2])+b[2]*(y-Y[2])) + fx4*(2*a[3]*(x-X[3])+b[3]*(y-Y[3]))\n",
    "#     dUx = dUx + extrapx\n",
    "    \n",
    "    dUy = fx1*(2*c[0]*y+b[0]*(x-X[0])) + fx2*(2*c[1]*(y-Y[1])+b[1]*(x-X[1])) + fx3*(2*c[2]*(y-Y[2])+b[2]*(x-X[2])) + fx4*(2*c[3]*(y-Y[3])+b[3]*(x-X[3]))\n",
    "#     dUy = dUy + extrapy\n",
    "#     U = fx1+fx2+fx3+fx4\n",
    "#     U = U+extra\n",
    "    \n",
    "    return dUx, dUy"
   ]
  },
  {
   "cell_type": "code",
   "execution_count": 4,
   "id": "812c8934-b4b6-47c4-82db-e9b23852adb3",
   "metadata": {},
   "outputs": [],
   "source": [
    "def chiAB(X):\n",
    "    a = torch.tensor([-0.558,1.441])\n",
    "    b = torch.tensor([0.623,0.028])\n",
    "    r = torch.tensor(0.1)\n",
    "    m = nn.Tanh()\n",
    "    sizex, nothing = X.shape\n",
    "    chiA = 0.5 - 0.5*m(1000*((((X - a).pow(2)).sum(dim = 1).reshape(sizex,1))-(r + torch.tensor(0.02)).pow(2)))                     \n",
    "    chiB = 0.5 - 0.5*m(1000*((((X - b).pow(2)).sum(dim = 1).reshape(sizex,1))-(r + torch.tensor(0.02)).pow(2)))       \n",
    "                             \n",
    "    return chiA, chiB"
   ]
  },
  {
   "cell_type": "code",
   "execution_count": 5,
   "id": "0e5dc129-0a41-43c4-8fe0-32765359e577",
   "metadata": {},
   "outputs": [],
   "source": [
    "def q_theta(X,chiA,chiB,q_tilde):\n",
    "    Q = (torch.tensor([1]) - chiA)*(q_tilde*(torch.tensor([1]) - chiB)+chiB)\n",
    "    return Q\n"
   ]
  },
  {
   "cell_type": "code",
   "execution_count": 6,
   "id": "b0560c2f-cfa1-481f-b5a5-c0e18bfbb1d9",
   "metadata": {},
   "outputs": [],
   "source": [
    "def funU(x,y):\n",
    "    a = torch.tensor([-1,-1,-6.5,0.7])\n",
    "    b = torch.tensor([0,0,11,0.6])\n",
    "    c = torch.tensor([-10,-10,-6.5,0.7])\n",
    "    D = torch.tensor([-200,-100,-170,15])\n",
    "    X = torch.tensor([1,0,-0.5,-1])\n",
    "    Y = torch.tensor([0,0.5,1.5,1])\n",
    "    gamma = torch.tensor([9])\n",
    "    k = torch.tensor([5])\n",
    "  \n",
    "    fx1 = D[0]*torch.exp(a[0]*((x-X[0]).pow(2)) + b[0]*(x-X[0])*(y-Y[0]) + c[0]*(y.pow(2)))\n",
    "    fx2 = D[1]*torch.exp(a[1]*((x-X[1]).pow(2)) + b[1]*(x-X[1])*(y-Y[1]) + c[1]*((y-Y[1]).pow(2)))\n",
    "    fx3 = D[2]*torch.exp(a[2]*((x-X[2]).pow(2)) + b[2]*(x-X[2])*(y-Y[2]) + c[2]*((y-Y[2]).pow(2)))\n",
    "    fx4 = D[3]*torch.exp(a[3]*((x-X[3]).pow(2)) + b[3]*(x-X[3])*(y-Y[3]) + c[3]*((y-Y[3]).pow(2)))\n",
    "    extra = gamma*torch.sin(2*k*pitorch*x)*torch.sin(2*k*pitorch*y)\n",
    "    \n",
    "    U = fx1+fx2+fx3+fx4\n",
    "#     U = U+extra\n",
    "    \n",
    "    return U"
   ]
  },
  {
   "cell_type": "code",
   "execution_count": 8,
   "id": "e2b30186-19ad-4bd7-97fb-364341dce2c9",
   "metadata": {},
   "outputs": [],
   "source": [
    "def funU_bias(x,y,xt,yt):\n",
    "    w = torch.tensor(5)\n",
    "    sig = torch.tensor(0.05)\n",
    "    sig2 = sig.pow(2)\n",
    "    \n",
    "    U_bias_vector = w*torch.exp(-(x - xt).pow(2)/(2*sig2) - (y-yt).pow(2)/(2*sig2))\n",
    "    U_bias = torch.sum(U_bias_vector,0)\n",
    "    return U_bias"
   ]
  },
  {
   "cell_type": "markdown",
   "id": "30ede8c8-5016-4ee5-a1e1-fd12872307ea",
   "metadata": {},
   "source": [
    "## models and data"
   ]
  },
  {
   "cell_type": "code",
   "execution_count": 10,
   "id": "b471ae28",
   "metadata": {},
   "outputs": [],
   "source": [
    "class Ruggedmueller2(nn.Module):\n",
    "    \"\"\"Feedfoward neural network with 1 hidden layer\"\"\"\n",
    "    def __init__(self, in_size, hidden_size, out_size):\n",
    "        super().__init__()\n",
    "        # hidden layer\n",
    "        self.linear1 = nn.Linear(in_size, hidden_size)\n",
    "        self.linear2 = nn.Linear(hidden_size, hidden_size)\n",
    "        # output layer\n",
    "        self.linear3 = nn.Linear(hidden_size, out_size)\n",
    "        \n",
    "    def forward(self, xb):\n",
    "        # Get intermediate outputs using hidden layer\n",
    "        out = self.linear1(xb)\n",
    "        # Apply activation function\n",
    "        tanhf = nn.Tanh()\n",
    "        out = tanhf(out)\n",
    "        # Get predictions using output layer\n",
    "        out = self.linear2(out)\n",
    "        out = tanhf(out)\n",
    "        out = self.linear3(out)\n",
    "        # apply activation function again\n",
    "        out = torch.sigmoid(out)\n",
    "        return out"
   ]
  },
  {
   "cell_type": "code",
   "execution_count": 11,
   "id": "7e674941-cb43-4bf6-811b-5cf98cc66f5a",
   "metadata": {},
   "outputs": [
    {
     "name": "stdout",
     "output_type": "stream",
     "text": [
      "torch.Size([15466, 1])\n",
      "torch.Size([15466, 1])\n"
     ]
    },
    {
     "data": {
      "text/plain": [
       "tensor([[ 0.0101,  0.0256],\n",
       "        [-0.0038,  0.0312],\n",
       "        [-0.0067,  0.0654],\n",
       "        ...,\n",
       "        [ 0.9453,  0.2918],\n",
       "        [ 0.7600, -0.0092],\n",
       "        [ 0.9273, -0.2069]], requires_grad=True)"
      ]
     },
     "execution_count": 11,
     "metadata": {},
     "output_type": "execute_result"
    }
   ],
   "source": [
    "import pandas as pd\n",
    "train = torch.tensor([])\n",
    "\n",
    "df = pd.read_excel('traindata_meta_uniform_in_space_T10.xlsx')\n",
    "\n",
    "X_train = pd.DataFrame(df['X'])\n",
    "Y_train = pd.DataFrame(df['Y'])\n",
    "\n",
    "X_train = torch.tensor(X_train.values,dtype=torch.float32)\n",
    "Y_train = torch.tensor(Y_train.values,dtype=torch.float32)\n",
    "\n",
    "train_data = torch.cat((X_train, Y_train), 1)\n",
    "train_data.requires_grad_(True)\n",
    "\n",
    "a = torch.tensor([-0.558,1.441]) \n",
    "b = torch.tensor([0.623,0.028])\n",
    "\n",
    "plt.scatter(X_train.detach().numpy(), Y_train.detach().numpy(),s = 0.1)\n",
    "plt.scatter(a[0],a[1])\n",
    "plt.scatter(b[0],b[1])\n",
    "plt.xlim([-1.5,1])\n",
    "plt.ylim([-0.5,2])"
   ]
  },
  {
   "cell_type": "code",
   "execution_count": 13,
   "id": "bff9d6ab",
   "metadata": {},
   "outputs": [
    {
     "name": "stdout",
     "output_type": "stream",
     "text": [
      "     X_bump    Y_bump\n",
      "0  0.000000  0.000000\n",
      "1  0.364616  0.089371\n",
      "2  0.473150  0.012352\n",
      "3  0.536493  0.053063\n",
      "4  0.541906 -0.041037\n"
     ]
    }
   ],
   "source": [
    "# Bumps generated from metadynamics, will be used in the loss function\n",
    "df = pd.read_excel('data_bump_T10.xlsx')\n",
    "print(df.head())\n",
    "\n",
    "X_bump = pd.DataFrame(df['X_bump'])\n",
    "Y_bump = pd.DataFrame(df['Y_bump'])\n",
    "\n",
    "X_bump = torch.tensor(X_bump.values,dtype=torch.float32)\n",
    "Y_bump = torch.tensor(Y_bump.values,dtype=torch.float32)"
   ]
  },
  {
   "cell_type": "code",
   "execution_count": 14,
   "id": "669498a0-7a90-4f08-96c1-2644d25eaf2c",
   "metadata": {},
   "outputs": [],
   "source": [
    "input_size = 2\n",
    "output_size = 1\n",
    "N_neurons = [10,40]\n",
    "model = Ruggedmueller2(input_size,N_neurons[1],output_size)"
   ]
  },
  {
   "cell_type": "code",
   "execution_count": 34,
   "id": "2ddd0b91-e08f-451b-8390-0c0f2b31aad6",
   "metadata": {},
   "outputs": [],
   "source": [
    "size1,size2 = train_data.shape\n",
    "rhs = torch.zeros(size1,)\n",
    "train_ds = TensorDataset(train_data,rhs)\n",
    "batch_size = int(size1/125) # the batch size is the size of the training data\n",
    "# int(size1/125)\n",
    "\n",
    "\n",
    "loss_fn = nn.L1Loss()\n",
    "\n",
    "train_dl = DataLoader(train_ds, batch_size, shuffle=True)\n",
    "optimizer1 = optim.Adam(model_11.parameters(), lr=1e-4)\n",
    "\n",
    "beta = torch.tensor(1/10)"
   ]
  },
  {
   "cell_type": "code",
   "execution_count": 1,
   "id": "7519f4e8-979d-40f7-80b2-1a497ac1125a",
   "metadata": {},
   "outputs": [],
   "source": [
    "# model_11 training:\n",
    "for epoch in range(1000):\n",
    "    if epoch%100 == 0:\n",
    "    for X,y in train_dl:\n",
    "        optimizer1.zero_grad()\n",
    "        chia,chib = chiAB(X)\n",
    "        q_tilde = model_11(X)\n",
    "        Q = q_theta(X,chia,chib,q_tilde)\n",
    "        U = funU(X[:,0],X[:,1])\n",
    "        derivQ = torch.autograd.grad(Q,X,allow_unused=True, retain_graph=True, grad_outputs = torch.ones_like(Q), create_graph=True)\n",
    "        output = (torch.norm(derivQ[0],dim=1)**2)*torch.exp(-beta*U)\n",
    "        loss = loss_fn(output, y)\n",
    "\n",
    "        loss.backward()\n",
    "        optimizer1.step()\n",
    "        \n",
    "        "
   ]
  },
  {
   "cell_type": "code",
   "execution_count": 33,
   "id": "b9528dda",
   "metadata": {},
   "outputs": [],
   "source": [
    "torch.save(model_11, 'd-net_T10_2hidden40.pt')"
   ]
  },
  {
   "cell_type": "code",
   "execution_count": null,
   "id": "d3010a03-8bf2-4f30-a3a4-c9aa644bf374",
   "metadata": {},
   "outputs": [],
   "source": []
  }
 ],
 "metadata": {
  "kernelspec": {
   "display_name": "Python 3 (ipykernel)",
   "language": "python",
   "name": "python3"
  },
  "language_info": {
   "codemirror_mode": {
    "name": "ipython",
    "version": 3
   },
   "file_extension": ".py",
   "mimetype": "text/x-python",
   "name": "python",
   "nbconvert_exporter": "python",
   "pygments_lexer": "ipython3",
   "version": "3.9.7"
  }
 },
 "nbformat": 4,
 "nbformat_minor": 5
}
